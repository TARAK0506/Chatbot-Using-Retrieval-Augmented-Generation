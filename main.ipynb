{
 "cells": [
  {
   "cell_type": "markdown",
   "metadata": {},
   "source": [
    "### Data Loader"
   ]
  },
  {
   "cell_type": "code",
   "execution_count": 1,
   "metadata": {},
   "outputs": [],
   "source": [
    "import warnings\n",
    "warnings.filterwarnings(\"ignore\")\n",
    "from langchain_community.document_loaders import JSONLoader "
   ]
  },
  {
   "cell_type": "code",
   "execution_count": 2,
   "metadata": {},
   "outputs": [
    {
     "name": "stdout",
     "output_type": "stream",
     "text": [
      "{'ticket_info': {'baggage_summary': {'total_cabin_baggage': '21kg',\n",
      "                                     'total_check_in_baggage': '69kg'},\n",
      "                 'class': 'Economy',\n",
      "                 'embedded_text_descriptions': {'flight_details': 'Flight '\n",
      "                                                                  'numbers '\n",
      "                                                                  'ET846 and '\n",
      "                                                                  'ET686, '\n",
      "                                                                  'Economy '\n",
      "                                                                  'class, from '\n",
      "                                                                  'CPT to DEL '\n",
      "                                                                  'on July 11, '\n",
      "                                                                  '2024',\n",
      "                                                'passenger_summary': 'Passengers: '\n",
      "                                                                     'Surendra '\n",
      "                                                                     'Singh, '\n",
      "                                                                     'Narinder '\n",
      "                                                                     'Kaur, '\n",
      "                                                                     'Samik '\n",
      "                                                                     'Singh, '\n",
      "                                                                     'traveling '\n",
      "                                                                     'with 7kg '\n",
      "                                                                     'cabin '\n",
      "                                                                     'baggage '\n",
      "                                                                     'and 23kg '\n",
      "                                                                     'check-in '\n",
      "                                                                     'baggage '\n",
      "                                                                     'each.',\n",
      "                                                'route_description': 'Cape '\n",
      "                                                                     'Town '\n",
      "                                                                     'International '\n",
      "                                                                     'Airport '\n",
      "                                                                     '(CPT) to '\n",
      "                                                                     'Indira '\n",
      "                                                                     'Gandhi '\n",
      "                                                                     'International '\n",
      "                                                                     'Airport '\n",
      "                                                                     '(DEL) '\n",
      "                                                                     'via '\n",
      "                                                                     'Addis '\n",
      "                                                                     'Ababa '\n",
      "                                                                     'Bole '\n",
      "                                                                     'International '\n",
      "                                                                     'Airport '\n",
      "                                                                     '(ADD)'},\n",
      "                 'flight_route': {'destination_airport': {'city': 'New Delhi',\n",
      "                                                          'country': 'India',\n",
      "                                                          'iata_code': 'DEL',\n",
      "                                                          'name': 'Indira '\n",
      "                                                                  'Gandhi '\n",
      "                                                                  'International '\n",
      "                                                                  'Airport'},\n",
      "                                  'intermediate_airports': [{'city': 'Addis '\n",
      "                                                                     'Ababa',\n",
      "                                                             'country': 'Ethiopia',\n",
      "                                                             'iata_code': 'ADD',\n",
      "                                                             'name': 'Addis '\n",
      "                                                                     'Ababa '\n",
      "                                                                     'Bole '\n",
      "                                                                     'International '\n",
      "                                                                     'Airport'}],\n",
      "                                  'layover_duration': '55 minutes',\n",
      "                                  'source_airport': {'city': 'Cape Town',\n",
      "                                                     'country': 'South Africa',\n",
      "                                                     'iata_code': 'CPT',\n",
      "                                                     'name': 'Cape Town '\n",
      "                                                             'International '\n",
      "                                                             'Airport'}},\n",
      "                 'flight_schedule': {'arrival': {'date': '2024-07-12',\n",
      "                                                 'full_datetime': '2024-07-12T08:10:00.000Z',\n",
      "                                                 'time': '08:10:00 UTC'},\n",
      "                                     'departure': {'date': '2024-07-11',\n",
      "                                                   'full_datetime': '2024-07-11T14:35:00.000Z',\n",
      "                                                   'time': '14:35:00 UTC'}},\n",
      "                 'flight_segments': [{'arrival': {'airport': 'Addis Ababa Bole '\n",
      "                                                             'International '\n",
      "                                                             'Airport',\n",
      "                                                  'date': '2024-07-11',\n",
      "                                                  'full_datetime': '2024-07-11T22:00:00.000Z',\n",
      "                                                  'iata_code': 'ADD',\n",
      "                                                  'time': '22:00:00 UTC'},\n",
      "                                      'departure': {'airport': 'Cape Town '\n",
      "                                                               'International '\n",
      "                                                               'Airport',\n",
      "                                                    'date': '2024-07-11',\n",
      "                                                    'full_datetime': '2024-07-11T14:35:00.000Z',\n",
      "                                                    'iata_code': 'CPT',\n",
      "                                                    'time': '14:35:00 UTC'},\n",
      "                                      'flight_number': 'ET846',\n",
      "                                      'segment_number': 1},\n",
      "                                     {'arrival': {'airport': 'Indira Gandhi '\n",
      "                                                             'International '\n",
      "                                                             'Airport',\n",
      "                                                  'date': '2024-07-12',\n",
      "                                                  'full_datetime': '2024-07-12T08:10:00.000Z',\n",
      "                                                  'iata_code': 'DEL',\n",
      "                                                  'time': '08:10:00 UTC'},\n",
      "                                      'departure': {'airport': 'Addis Ababa '\n",
      "                                                               'Bole '\n",
      "                                                               'International '\n",
      "                                                               'Airport',\n",
      "                                                    'date': '2024-07-11',\n",
      "                                                    'full_datetime': '2024-07-11T22:55:00.000Z',\n",
      "                                                    'iata_code': 'ADD',\n",
      "                                                    'time': '22:55:00 UTC'},\n",
      "                                      'flight_number': 'ET686',\n",
      "                                      'segment_number': 2}],\n",
      "                 'namespace': 'flight_bookings',\n",
      "                 'passenger_details': {'passengers': [{'baggage': {'cabin': '7kg',\n",
      "                                                                   'check_in': '23kg'},\n",
      "                                                       'full_name': 'Surendra '\n",
      "                                                                    'Singh',\n",
      "                                                       'seat_number': '21A'},\n",
      "                                                      {'baggage': {'cabin': '7kg',\n",
      "                                                                   'check_in': '23kg'},\n",
      "                                                       'full_name': 'Narinder '\n",
      "                                                                    'Kaur',\n",
      "                                                       'seat_number': '21B'},\n",
      "                                                      {'baggage': {'cabin': '7kg',\n",
      "                                                                   'check_in': '23kg'},\n",
      "                                                       'full_name': 'Samik '\n",
      "                                                                    'Singh',\n",
      "                                                       'seat_number': '21C'}],\n",
      "                                       'total_passenger_count': 3},\n",
      "                 'pnr': 'HZAVJJ',\n",
      "                 'ticket_id': 'ticket_227_3183',\n",
      "                 'user_id': 227}}\n"
     ]
    }
   ],
   "source": [
    "import json\n",
    "from pathlib import Path\n",
    "from pprint import pprint\n",
    "\n",
    "\n",
    "file_path='./processed.json'\n",
    "data = json.loads(Path(file_path).read_text())\n",
    "pprint(data)"
   ]
  },
  {
   "cell_type": "code",
   "execution_count": null,
   "metadata": {},
   "outputs": [],
   "source": [
    "# Define the metadata extraction function\n",
    "def metadata_func(record: dict, metadata: dict) -> dict:\n",
    "    \n",
    "    ticket_info = record.get(\"ticket_info\", {})\n",
    "\n",
    "    # Extract basic ticket details\n",
    "    metadata[\"ticket_id\"] = ticket_info.get(\"ticket_id\")\n",
    "    metadata[\"pnr\"] = ticket_info.get(\"pnr\")\n",
    "    metadata[\"class\"] = ticket_info.get(\"class\")\n",
    "    metadata[\"user_id\"] = ticket_info.get(\"user_id\")\n",
    "\n",
    "    # Extract flight route details\n",
    "    flight_route = ticket_info.get(\"flight_route\", {})\n",
    "    metadata[\"source_airport\"] = flight_route.get(\"source_airport\", {}).get(\"name\")\n",
    "    metadata[\"source_iata_code\"] = flight_route.get(\"source_airport\", {}).get(\"iata_code\")\n",
    "    metadata[\"destination_airport\"] = flight_route.get(\"destination_airport\", {}).get(\"name\")\n",
    "    metadata[\"destination_iata_code\"] = flight_route.get(\"destination_airport\", {}).get(\"iata_code\")\n",
    "    metadata[\"layover_duration\"] = flight_route.get(\"layover_duration\")\n",
    "\n",
    "    # Extract flight schedule details\n",
    "    flight_schedule = ticket_info.get(\"flight_schedule\", {})\n",
    "    metadata[\"departure_date\"] = flight_schedule.get(\"departure\", {}).get(\"date\")\n",
    "    metadata[\"departure_time\"] = flight_schedule.get(\"departure\", {}).get(\"time\")\n",
    "    metadata[\"arrival_date\"] = flight_schedule.get(\"arrival\", {}).get(\"date\")\n",
    "    metadata[\"arrival_time\"] = flight_schedule.get(\"arrival\", {}).get(\"time\")\n",
    "\n",
    "    # Extract passenger details summary\n",
    "    passenger_details = ticket_info.get(\"passenger_details\", {})\n",
    "    metadata[\"total_passenger_count\"] = passenger_details.get(\"total_passenger_count\")\n",
    "    \n",
    "    # Extract embedded text descriptions if needed\n",
    "    embedded_text_descriptions = ticket_info.get(\"embedded_text_descriptions\", {})\n",
    "    metadata[\"route_description\"] = embedded_text_descriptions.get(\"route_description\")\n",
    "    metadata[\"flight_details\"] = embedded_text_descriptions.get(\"flight_details\")\n",
    "    metadata[\"passenger_summary\"] = embedded_text_descriptions.get(\"passenger_summary\")\n",
    "\n",
    "    return metadata\n"
   ]
  },
  {
   "cell_type": "code",
   "execution_count": 4,
   "metadata": {},
   "outputs": [],
   "source": [
    "import json\n",
    "from pathlib import Path\n",
    "\n",
    "# Load the data\n",
    "file_path = Path(\"processed.json\")\n",
    "json_data = json.loads(file_path.read_text())"
   ]
  },
  {
   "cell_type": "code",
   "execution_count": 5,
   "metadata": {},
   "outputs": [
    {
     "data": {
      "text/plain": [
       "{'ticket_info': {'ticket_id': 'ticket_227_3183',\n",
       "  'namespace': 'flight_bookings',\n",
       "  'pnr': 'HZAVJJ',\n",
       "  'class': 'Economy',\n",
       "  'user_id': 227,\n",
       "  'flight_route': {'source_airport': {'name': 'Cape Town International Airport',\n",
       "    'iata_code': 'CPT',\n",
       "    'city': 'Cape Town',\n",
       "    'country': 'South Africa'},\n",
       "   'destination_airport': {'name': 'Indira Gandhi International Airport',\n",
       "    'iata_code': 'DEL',\n",
       "    'city': 'New Delhi',\n",
       "    'country': 'India'},\n",
       "   'intermediate_airports': [{'name': 'Addis Ababa Bole International Airport',\n",
       "     'iata_code': 'ADD',\n",
       "     'city': 'Addis Ababa',\n",
       "     'country': 'Ethiopia'}],\n",
       "   'layover_duration': '55 minutes'},\n",
       "  'flight_schedule': {'departure': {'date': '2024-07-11',\n",
       "    'time': '14:35:00 UTC',\n",
       "    'full_datetime': '2024-07-11T14:35:00.000Z'},\n",
       "   'arrival': {'date': '2024-07-12',\n",
       "    'time': '08:10:00 UTC',\n",
       "    'full_datetime': '2024-07-12T08:10:00.000Z'}},\n",
       "  'flight_segments': [{'segment_number': 1,\n",
       "    'flight_number': 'ET846',\n",
       "    'departure': {'airport': 'Cape Town International Airport',\n",
       "     'iata_code': 'CPT',\n",
       "     'date': '2024-07-11',\n",
       "     'time': '14:35:00 UTC',\n",
       "     'full_datetime': '2024-07-11T14:35:00.000Z'},\n",
       "    'arrival': {'airport': 'Addis Ababa Bole International Airport',\n",
       "     'iata_code': 'ADD',\n",
       "     'date': '2024-07-11',\n",
       "     'time': '22:00:00 UTC',\n",
       "     'full_datetime': '2024-07-11T22:00:00.000Z'}},\n",
       "   {'segment_number': 2,\n",
       "    'flight_number': 'ET686',\n",
       "    'departure': {'airport': 'Addis Ababa Bole International Airport',\n",
       "     'iata_code': 'ADD',\n",
       "     'date': '2024-07-11',\n",
       "     'time': '22:55:00 UTC',\n",
       "     'full_datetime': '2024-07-11T22:55:00.000Z'},\n",
       "    'arrival': {'airport': 'Indira Gandhi International Airport',\n",
       "     'iata_code': 'DEL',\n",
       "     'date': '2024-07-12',\n",
       "     'time': '08:10:00 UTC',\n",
       "     'full_datetime': '2024-07-12T08:10:00.000Z'}}],\n",
       "  'passenger_details': {'total_passenger_count': 3,\n",
       "   'passengers': [{'full_name': 'Surendra Singh',\n",
       "     'seat_number': '21A',\n",
       "     'baggage': {'cabin': '7kg', 'check_in': '23kg'}},\n",
       "    {'full_name': 'Narinder Kaur',\n",
       "     'seat_number': '21B',\n",
       "     'baggage': {'cabin': '7kg', 'check_in': '23kg'}},\n",
       "    {'full_name': 'Samik Singh',\n",
       "     'seat_number': '21C',\n",
       "     'baggage': {'cabin': '7kg', 'check_in': '23kg'}}]},\n",
       "  'baggage_summary': {'total_cabin_baggage': '21kg',\n",
       "   'total_check_in_baggage': '69kg'},\n",
       "  'embedded_text_descriptions': {'route_description': 'Cape Town International Airport (CPT) to Indira Gandhi International Airport (DEL) via Addis Ababa Bole International Airport (ADD)',\n",
       "   'flight_details': 'Flight numbers ET846 and ET686, Economy class, from CPT to DEL on July 11, 2024',\n",
       "   'passenger_summary': 'Passengers: Surendra Singh, Narinder Kaur, Samik Singh, traveling with 7kg cabin baggage and 23kg check-in baggage each.'}}}"
      ]
     },
     "execution_count": 5,
     "metadata": {},
     "output_type": "execute_result"
    }
   ],
   "source": [
    "json_data"
   ]
  },
  {
   "cell_type": "markdown",
   "metadata": {},
   "source": [
    "### Recursive Character Text Splitter"
   ]
  },
  {
   "cell_type": "code",
   "execution_count": 6,
   "metadata": {},
   "outputs": [
    {
     "data": {
      "text/plain": [
       "<langchain_text_splitters.json.RecursiveJsonSplitter at 0x18c5c430b90>"
      ]
     },
     "execution_count": 6,
     "metadata": {},
     "output_type": "execute_result"
    }
   ],
   "source": [
    "from langchain_text_splitters import RecursiveJsonSplitter\n",
    "\n",
    "splitter = RecursiveJsonSplitter(max_chunk_size=200)\n",
    "splitter"
   ]
  },
  {
   "cell_type": "markdown",
   "metadata": {},
   "source": [
    "### Chunks of Text"
   ]
  },
  {
   "cell_type": "code",
   "execution_count": null,
   "metadata": {},
   "outputs": [
    {
     "name": "stdout",
     "output_type": "stream",
     "text": [
      "{'ticket_info': {'ticket_id': 'ticket_227_3183', 'namespace': 'flight_bookings', 'pnr': 'HZAVJJ', 'class': 'Economy', 'user_id': 227}}\n",
      "{'ticket_info': {'flight_route': {'source_airport': {'name': 'Cape Town International Airport', 'iata_code': 'CPT', 'city': 'Cape Town', 'country': 'South Africa'}}}}\n",
      "{'ticket_info': {'flight_route': {'destination_airport': {'name': 'Indira Gandhi International Airport', 'iata_code': 'DEL', 'city': 'New Delhi', 'country': 'India'}}}}\n"
     ]
    }
   ],
   "source": [
    "# Recursively split json data \n",
    "json_chunks = splitter.split_json(json_data=json_data, convert_lists=True)\n",
    "\n",
    "for chunk in json_chunks[:3]:\n",
    "    print(chunk)"
   ]
  },
  {
   "cell_type": "code",
   "execution_count": 8,
   "metadata": {},
   "outputs": [
    {
     "data": {
      "text/plain": [
       "25"
      ]
     },
     "execution_count": 8,
     "metadata": {},
     "output_type": "execute_result"
    }
   ],
   "source": [
    "len(json_chunks)"
   ]
  },
  {
   "cell_type": "markdown",
   "metadata": {},
   "source": [
    "### Documents"
   ]
  },
  {
   "cell_type": "code",
   "execution_count": null,
   "metadata": {},
   "outputs": [
    {
     "name": "stdout",
     "output_type": "stream",
     "text": [
      "page_content='{\"ticket_info\": {\"ticket_id\": \"ticket_227_3183\", \"namespace\": \"flight_bookings\", \"pnr\": \"HZAVJJ\", \"class\": \"Economy\", \"user_id\": 227}}'\n",
      "page_content='{\"ticket_info\": {\"flight_route\": {\"source_airport\": {\"name\": \"Cape Town International Airport\", \"iata_code\": \"CPT\", \"city\": \"Cape Town\", \"country\": \"South Africa\"}}}}'\n",
      "page_content='{\"ticket_info\": {\"flight_route\": {\"destination_airport\": {\"name\": \"Indira Gandhi International Airport\", \"iata_code\": \"DEL\", \"city\": \"New Delhi\", \"country\": \"India\"}}}}'\n"
     ]
    }
   ],
   "source": [
    "# Create documents from the json data using the splitter\n",
    "docs = splitter.create_documents(texts=[json_data],convert_lists=True)\n",
    "\n",
    "for doc in docs[:3]:\n",
    "    print(doc)"
   ]
  },
  {
   "cell_type": "markdown",
   "metadata": {},
   "source": [
    "### text "
   ]
  },
  {
   "cell_type": "code",
   "execution_count": null,
   "metadata": {},
   "outputs": [],
   "source": [
    "# Create text documents from the json data using the splitter\n",
    "texts = splitter.split_text(json_data=json_data, convert_lists=True)"
   ]
  },
  {
   "cell_type": "code",
   "execution_count": 11,
   "metadata": {},
   "outputs": [
    {
     "name": "stdout",
     "output_type": "stream",
     "text": [
      "[134, 166, 168, 185, 69, 144, 142, 92, 172, 105]\n",
      "{\"ticket_info\": {\"flight_route\": {\"source_airport\": {\"name\": \"Cape Town International Airport\", \"iata_code\": \"CPT\", \"city\": \"Cape Town\", \"country\": \"South Africa\"}}}}\n"
     ]
    }
   ],
   "source": [
    "print([len(text) for text in texts][:10])\n",
    "print(texts[1])"
   ]
  },
  {
   "cell_type": "code",
   "execution_count": 12,
   "metadata": {},
   "outputs": [
    {
     "data": {
      "text/plain": [
       "25"
      ]
     },
     "execution_count": 12,
     "metadata": {},
     "output_type": "execute_result"
    }
   ],
   "source": [
    "len(texts)"
   ]
  },
  {
   "cell_type": "code",
   "execution_count": 14,
   "metadata": {},
   "outputs": [
    {
     "data": {
      "text/plain": [
       "Document(metadata={}, page_content='{\"ticket_info\": {\"ticket_id\": \"ticket_227_3183\", \"namespace\": \"flight_bookings\", \"pnr\": \"HZAVJJ\", \"class\": \"Economy\", \"user_id\": 227}}')"
      ]
     },
     "execution_count": 14,
     "metadata": {},
     "output_type": "execute_result"
    }
   ],
   "source": [
    "docs[0]"
   ]
  },
  {
   "cell_type": "code",
   "execution_count": 15,
   "metadata": {},
   "outputs": [],
   "source": [
    "from tqdm.autonotebook import tqdm, trange"
   ]
  },
  {
   "cell_type": "code",
   "execution_count": null,
   "metadata": {},
   "outputs": [
    {
     "name": "stderr",
     "output_type": "stream",
     "text": [
      "100%|██████████| 100/100 [00:10<00:00,  9.74it/s]\n"
     ]
    }
   ],
   "source": [
    "import time\n",
    "from tqdm.autonotebook import tqdm\n",
    "\n",
    "for i in tqdm(range(100)):\n",
    "    time.sleep(0.1)  "
   ]
  },
  {
   "cell_type": "markdown",
   "metadata": {},
   "source": [
    "### Hugging Face Embeddings"
   ]
  },
  {
   "cell_type": "code",
   "execution_count": 17,
   "metadata": {},
   "outputs": [],
   "source": [
    "from langchain_huggingface import HuggingFaceEmbeddings\n",
    "\n",
    "embeddings_model = HuggingFaceEmbeddings(model_name=\"sentence-transformers/all-mpnet-base-v2\")"
   ]
  },
  {
   "cell_type": "code",
   "execution_count": 18,
   "metadata": {},
   "outputs": [
    {
     "data": {
      "text/plain": [
       "(5, 768)"
      ]
     },
     "execution_count": 18,
     "metadata": {},
     "output_type": "execute_result"
    }
   ],
   "source": [
    "embeddings = embeddings_model.embed_documents(\n",
    "    [\n",
    "        \"Hi there!\",\n",
    "        \"Oh, hello!\",\n",
    "        \"What's your name?\",\n",
    "        \"My friends call me World\",\n",
    "        \"Hello World!\"\n",
    "    ]\n",
    ")\n",
    "len(embeddings), len(embeddings[0])"
   ]
  },
  {
   "cell_type": "code",
   "execution_count": null,
   "metadata": {},
   "outputs": [],
   "source": [
    "# embeddings[0]"
   ]
  },
  {
   "cell_type": "code",
   "execution_count": 19,
   "metadata": {},
   "outputs": [],
   "source": [
    "text = \"This is a test sentence.\"\n",
    "query_result = embeddings_model.embed_query(text)\n",
    "# query_result"
   ]
  },
  {
   "cell_type": "code",
   "execution_count": 20,
   "metadata": {},
   "outputs": [
    {
     "data": {
      "text/plain": [
       "768"
      ]
     },
     "execution_count": 20,
     "metadata": {},
     "output_type": "execute_result"
    }
   ],
   "source": [
    "len(query_result)"
   ]
  },
  {
   "cell_type": "markdown",
   "metadata": {},
   "source": [
    "### Pinecone Initialization"
   ]
  },
  {
   "cell_type": "code",
   "execution_count": 26,
   "metadata": {},
   "outputs": [
    {
     "name": "stdout",
     "output_type": "stream",
     "text": [
      "Requirement already satisfied: sentence-transformers in c:\\users\\tarak\\downloads\\assignments\\rag chatbot\\venv\\lib\\site-packages (3.2.1)\n",
      "Requirement already satisfied: pinecone in c:\\users\\tarak\\downloads\\assignments\\rag chatbot\\venv\\lib\\site-packages (5.3.1)\n",
      "Requirement already satisfied: transformers<5.0.0,>=4.41.0 in c:\\users\\tarak\\downloads\\assignments\\rag chatbot\\venv\\lib\\site-packages (from sentence-transformers) (4.46.1)\n",
      "Requirement already satisfied: tqdm in c:\\users\\tarak\\downloads\\assignments\\rag chatbot\\venv\\lib\\site-packages (from sentence-transformers) (4.66.6)\n",
      "Requirement already satisfied: torch>=1.11.0 in c:\\users\\tarak\\downloads\\assignments\\rag chatbot\\venv\\lib\\site-packages (from sentence-transformers) (2.5.1)\n",
      "Requirement already satisfied: scikit-learn in c:\\users\\tarak\\downloads\\assignments\\rag chatbot\\venv\\lib\\site-packages (from sentence-transformers) (1.5.2)\n",
      "Requirement already satisfied: scipy in c:\\users\\tarak\\downloads\\assignments\\rag chatbot\\venv\\lib\\site-packages (from sentence-transformers) (1.14.1)\n",
      "Requirement already satisfied: huggingface-hub>=0.20.0 in c:\\users\\tarak\\downloads\\assignments\\rag chatbot\\venv\\lib\\site-packages (from sentence-transformers) (0.26.2)\n",
      "Requirement already satisfied: Pillow in c:\\users\\tarak\\downloads\\assignments\\rag chatbot\\venv\\lib\\site-packages (from sentence-transformers) (11.0.0)\n",
      "Requirement already satisfied: certifi>=2019.11.17 in c:\\users\\tarak\\downloads\\assignments\\rag chatbot\\venv\\lib\\site-packages (from pinecone) (2024.8.30)\n",
      "Requirement already satisfied: pinecone-plugin-inference<2.0.0,>=1.1.0 in c:\\users\\tarak\\downloads\\assignments\\rag chatbot\\venv\\lib\\site-packages (from pinecone) (1.1.0)\n",
      "Requirement already satisfied: pinecone-plugin-interface<0.0.8,>=0.0.7 in c:\\users\\tarak\\downloads\\assignments\\rag chatbot\\venv\\lib\\site-packages (from pinecone) (0.0.7)\n",
      "Requirement already satisfied: python-dateutil>=2.5.3 in c:\\users\\tarak\\downloads\\assignments\\rag chatbot\\venv\\lib\\site-packages (from pinecone) (2.9.0.post0)\n",
      "Requirement already satisfied: typing-extensions>=3.7.4 in c:\\users\\tarak\\downloads\\assignments\\rag chatbot\\venv\\lib\\site-packages (from pinecone) (4.12.2)\n",
      "Requirement already satisfied: urllib3>=1.26.0 in c:\\users\\tarak\\downloads\\assignments\\rag chatbot\\venv\\lib\\site-packages (from pinecone) (2.2.3)\n",
      "Requirement already satisfied: filelock in c:\\users\\tarak\\downloads\\assignments\\rag chatbot\\venv\\lib\\site-packages (from huggingface-hub>=0.20.0->sentence-transformers) (3.16.1)\n",
      "Requirement already satisfied: fsspec>=2023.5.0 in c:\\users\\tarak\\downloads\\assignments\\rag chatbot\\venv\\lib\\site-packages (from huggingface-hub>=0.20.0->sentence-transformers) (2024.10.0)\n",
      "Requirement already satisfied: packaging>=20.9 in c:\\users\\tarak\\downloads\\assignments\\rag chatbot\\venv\\lib\\site-packages (from huggingface-hub>=0.20.0->sentence-transformers) (24.1)\n",
      "Requirement already satisfied: pyyaml>=5.1 in c:\\users\\tarak\\downloads\\assignments\\rag chatbot\\venv\\lib\\site-packages (from huggingface-hub>=0.20.0->sentence-transformers) (6.0.2)\n",
      "Requirement already satisfied: requests in c:\\users\\tarak\\downloads\\assignments\\rag chatbot\\venv\\lib\\site-packages (from huggingface-hub>=0.20.0->sentence-transformers) (2.32.3)\n",
      "Requirement already satisfied: six>=1.5 in c:\\users\\tarak\\downloads\\assignments\\rag chatbot\\venv\\lib\\site-packages (from python-dateutil>=2.5.3->pinecone) (1.16.0)\n",
      "Requirement already satisfied: networkx in c:\\users\\tarak\\downloads\\assignments\\rag chatbot\\venv\\lib\\site-packages (from torch>=1.11.0->sentence-transformers) (3.4.2)\n",
      "Requirement already satisfied: jinja2 in c:\\users\\tarak\\downloads\\assignments\\rag chatbot\\venv\\lib\\site-packages (from torch>=1.11.0->sentence-transformers) (3.1.4)\n",
      "Requirement already satisfied: sympy==1.13.1 in c:\\users\\tarak\\downloads\\assignments\\rag chatbot\\venv\\lib\\site-packages (from torch>=1.11.0->sentence-transformers) (1.13.1)\n",
      "Requirement already satisfied: mpmath<1.4,>=1.1.0 in c:\\users\\tarak\\downloads\\assignments\\rag chatbot\\venv\\lib\\site-packages (from sympy==1.13.1->torch>=1.11.0->sentence-transformers) (1.3.0)\n",
      "Requirement already satisfied: colorama in c:\\users\\tarak\\downloads\\assignments\\rag chatbot\\venv\\lib\\site-packages (from tqdm->sentence-transformers) (0.4.6)\n",
      "Requirement already satisfied: numpy>=1.17 in c:\\users\\tarak\\downloads\\assignments\\rag chatbot\\venv\\lib\\site-packages (from transformers<5.0.0,>=4.41.0->sentence-transformers) (1.26.4)\n",
      "Requirement already satisfied: regex!=2019.12.17 in c:\\users\\tarak\\downloads\\assignments\\rag chatbot\\venv\\lib\\site-packages (from transformers<5.0.0,>=4.41.0->sentence-transformers) (2024.9.11)\n",
      "Requirement already satisfied: safetensors>=0.4.1 in c:\\users\\tarak\\downloads\\assignments\\rag chatbot\\venv\\lib\\site-packages (from transformers<5.0.0,>=4.41.0->sentence-transformers) (0.4.5)\n",
      "Requirement already satisfied: tokenizers<0.21,>=0.20 in c:\\users\\tarak\\downloads\\assignments\\rag chatbot\\venv\\lib\\site-packages (from transformers<5.0.0,>=4.41.0->sentence-transformers) (0.20.1)\n",
      "Requirement already satisfied: joblib>=1.2.0 in c:\\users\\tarak\\downloads\\assignments\\rag chatbot\\venv\\lib\\site-packages (from scikit-learn->sentence-transformers) (1.4.2)\n",
      "Requirement already satisfied: threadpoolctl>=3.1.0 in c:\\users\\tarak\\downloads\\assignments\\rag chatbot\\venv\\lib\\site-packages (from scikit-learn->sentence-transformers) (3.5.0)\n",
      "Requirement already satisfied: MarkupSafe>=2.0 in c:\\users\\tarak\\downloads\\assignments\\rag chatbot\\venv\\lib\\site-packages (from jinja2->torch>=1.11.0->sentence-transformers) (3.0.2)\n",
      "Requirement already satisfied: charset-normalizer<4,>=2 in c:\\users\\tarak\\downloads\\assignments\\rag chatbot\\venv\\lib\\site-packages (from requests->huggingface-hub>=0.20.0->sentence-transformers) (3.4.0)\n",
      "Requirement already satisfied: idna<4,>=2.5 in c:\\users\\tarak\\downloads\\assignments\\rag chatbot\\venv\\lib\\site-packages (from requests->huggingface-hub>=0.20.0->sentence-transformers) (3.10)\n"
     ]
    }
   ],
   "source": [
    "! pip install -U sentence-transformers pinecone "
   ]
  },
  {
   "cell_type": "code",
   "execution_count": 27,
   "metadata": {},
   "outputs": [
    {
     "data": {
      "text/plain": [
       "True"
      ]
     },
     "execution_count": 27,
     "metadata": {},
     "output_type": "execute_result"
    }
   ],
   "source": [
    "import os\n",
    "from dotenv import load_dotenv, find_dotenv\n",
    "load_dotenv(find_dotenv())"
   ]
  },
  {
   "cell_type": "code",
   "execution_count": null,
   "metadata": {},
   "outputs": [],
   "source": [
    "### API Key\n",
    "api_key = os.getenv(\"PINECONE_API_KEY\")"
   ]
  },
  {
   "cell_type": "code",
   "execution_count": 30,
   "metadata": {},
   "outputs": [],
   "source": [
    "\n",
    "from pinecone import Pinecone, ServerlessSpec\n",
    "\n",
    "pc = Pinecone(api_key=api_key)\n",
    "\n",
    "# Create Index\n",
    "index_name = \"flight-search\"\n",
    "\n",
    "if index_name not in pc.list_indexes():\n",
    "    pc.create_index(\n",
    "        name=index_name,\n",
    "        dimension=768,\n",
    "        metric=\"cosine\",\n",
    "        spec=ServerlessSpec(\n",
    "            cloud='aws',\n",
    "            region='us-east-1'\n",
    "        )\n",
    "    )"
   ]
  },
  {
   "cell_type": "code",
   "execution_count": 31,
   "metadata": {},
   "outputs": [
    {
     "data": {
      "text/plain": [
       "{'indexes': [{'deletion_protection': 'disabled',\n",
       "              'dimension': 768,\n",
       "              'host': 'flight-search-mrwtq0j.svc.aped-4627-b74a.pinecone.io',\n",
       "              'metric': 'cosine',\n",
       "              'name': 'flight-search',\n",
       "              'spec': {'serverless': {'cloud': 'aws', 'region': 'us-east-1'}},\n",
       "              'status': {'ready': True, 'state': 'Ready'}}]}"
      ]
     },
     "execution_count": 31,
     "metadata": {},
     "output_type": "execute_result"
    }
   ],
   "source": [
    "# List Indexes\n",
    "indexes = pc.list_indexes()\n",
    "indexes"
   ]
  },
  {
   "cell_type": "code",
   "execution_count": 32,
   "metadata": {},
   "outputs": [
    {
     "name": "stdout",
     "output_type": "stream",
     "text": [
      "Index after upsert:\n",
      "{'dimension': 768,\n",
      " 'index_fullness': 0.0,\n",
      " 'namespaces': {},\n",
      " 'total_vector_count': 0}\n",
      "\n",
      "\n"
     ]
    }
   ],
   "source": [
    "from langchain_pinecone import PineconeVectorStore\n",
    "\n",
    "namespace = \"vector_store\"\n",
    "\n",
    "docsearch = PineconeVectorStore.from_documents(\n",
    "    documents=docs,\n",
    "    index_name=index_name,\n",
    "    embedding=embeddings_model,\n",
    "    namespace=namespace\n",
    ")\n",
    "import time\n",
    "time.sleep(5)\n",
    "\n",
    "# See how many vectors have been upserted\n",
    "print(\"Index after upsert:\")\n",
    "print(pc.Index(index_name).describe_index_stats())\n",
    "print(\"\\n\")\n",
    "time.sleep(2)"
   ]
  },
  {
   "cell_type": "code",
   "execution_count": 33,
   "metadata": {},
   "outputs": [],
   "source": [
    "index = pc.Index(index_name)\n",
    "namespace = \"vector_store\"\n",
    "\n",
    "for ids in index.list(namespace=namespace):\n",
    "    query = index.query(\n",
    "        id=ids[0], \n",
    "        namespace=namespace, \n",
    "        top_k=1,\n",
    "        include_values=True,\n",
    "        include_metadata=True\n",
    "    )"
   ]
  },
  {
   "cell_type": "code",
   "execution_count": 34,
   "metadata": {},
   "outputs": [
    {
     "name": "stdout",
     "output_type": "stream",
     "text": [
      "[0.0018927131313830614, -0.03389356657862663, -0.0544341579079628, 0.017752807587385178, -0.05886246636509895, -0.03966275602579117, -0.03435841575264931, -0.05689047649502754, -0.033438194543123245, -0.005347381811589003, 0.044564224779605865, 0.003117747139185667, -0.0006466050981543958, -0.02765374444425106, 0.016898630186915398, 0.006737298332154751, 0.04302022606134415, 0.006998178083449602, -0.05639045313000679, -0.01769322156906128, -0.055933818221092224, -0.006081584375351667, -0.06205228343605995, -0.032459571957588196, 0.058954887092113495, -0.03596005588769913, -0.04611822962760925, -0.001831723377108574, -0.0037443924229592085, 0.008370908908545971, 0.03567522391676903, 0.010151678696274757, 0.02152826078236103, 0.057715412229299545, 1.25459428090835e-06, 0.023354509845376015, 0.02820037119090557, 0.057250700891017914, -0.018497252836823463, 0.0296862181276083, -0.02423950284719467, 0.04734170436859131, 0.0040662563405931, 0.024376999586820602, 0.002730448730289936, -0.028953777626156807, -0.03164337947964668, -0.012409255839884281, -0.016172248870134354, 0.07308527082204819, 0.011845606379210949, 0.012792905792593956, -0.0008707132074050605, -0.014838329516351223, 0.049819186329841614, -0.05877069756388664, -0.047397222369909286, 0.04220835864543915, -0.04734766110777855, 0.022828372195363045, 0.02030661515891552, -0.020466990768909454, -0.027037115767598152, -0.006012552417814732, -0.004978381562978029, -0.030636100098490715, -0.05130387842655182, 0.0301373153924942, -0.0042204600758850574, -0.03326652944087982, 0.07613019645214081, -0.06474442780017853, 0.006897583603858948, 0.09447219967842102, 0.006147816311568022, -0.019042661413550377, -0.004277389496564865, -0.03950131684541702, -0.012080559507012367, 0.026032358407974243, 0.011411902494728565, -0.04091504588723183, 0.010958067141473293, 0.0005385424592532218, 0.035664938390254974, 0.02295169234275818, 0.036134984344244, -0.023568512871861458, -0.03965058550238609, 0.007527298294007778, -0.003047279780730605, -0.04514262080192566, -0.01657199114561081, 0.0632622092962265, -0.02934649959206581, -0.02600126340985298, 0.015758922323584557, 0.022373102605342865, -3.119596294709481e-05, 0.011816437356173992, -0.056534357368946075, 0.0025343219749629498, -0.005064781289547682, 0.013948834501206875, -0.04304928332567215, 0.0026431113947182894, -0.0014945949660614133, -0.054890524595975876, -0.018454816192388535, -0.07052715867757797, 0.0038621926214545965, -0.009687677957117558, 0.03826682269573212, -0.05000137537717819, -0.025996822863817215, 0.012310142628848553, 0.022669220343232155, -0.011400825344026089, 0.02128753252327442, 0.0266076922416687, 0.06850651651620865, -0.0301284808665514, 0.050355952233076096, 0.0215822234749794, -0.07224085181951523, 0.014277937822043896, -0.034319739788770676, -0.022212550044059753, -0.0017495554639026523, -0.01648530177772045, -0.010506494902074337, -0.009542121551930904, -0.006228895392268896, 0.017026562243700027, -0.025640122592449188, 0.053441379219293594, -0.08423961699008942, 0.0077124605886638165, -0.006543775554746389, 0.011912321671843529, 0.031723808497190475, -0.08085951209068298, 0.028220394626259804, -0.021700648590922356, 0.021076716482639313, -0.015304965898394585, -0.05197060853242874, 0.009266912005841732, -0.03724280372262001, 0.002491568448022008, 0.048134945333004, 0.015125014819204807, -0.0236405860632658, 0.010442828759551048, 0.037829261273145676, 0.046736691147089005, -0.004854270257055759, 0.004612060263752937, -0.01460273377597332, -0.0011857857462018728, 0.007442712318152189, -0.0015063942410051823, -0.014250599779188633, -0.011612451635301113, 0.029463231563568115, -0.02280651219189167, -0.023140914738178253, 0.0005233597476035357, -0.03008345142006874, 0.022837897762656212, -0.03810359165072441, -0.04525354877114296, 0.014174231328070164, -0.013739287853240967, -0.01178230345249176, -0.013583499006927013, 0.031206026673316956, -0.036048732697963715, 0.04483683407306671, -0.035599369555711746, -0.01803664118051529, -0.12861596047878265, -0.02634335681796074, -0.038115616887807846, 0.07672198861837387, 0.06571123749017715, 0.03491385281085968, 0.0709267407655716, 0.03579898923635483, 0.05430445075035095, -0.0354437530040741, -6.188252882566303e-05, -0.05094975605607033, 0.033533815294504166, -0.029195092618465424, -0.036008935421705246, -0.005052811000496149, 0.03135107457637787, -0.02569010481238365, 0.021578248590230942, -0.04582489654421806, 0.06797881424427032, 0.0007350206142291427, -0.03115793876349926, 0.020752642303705215, 0.06975655257701874, -0.0032140202820301056, -0.00390978530049324, 0.06755291670560837, 0.008306504227221012, 0.010543659329414368, 0.03653327748179436, -0.0118537787348032, 0.007690704893320799, 0.02002914436161518, 0.03614618629217148, -0.008199712261557579, -0.03878168389201164, 0.05644531548023224, 0.10491906851530075, 0.009689162485301495, -0.02612154185771942, 0.018798336386680603, 0.024047663435339928, 0.030684955418109894, 0.04414067417383194, -0.06172998622059822, 0.02977912686765194, 0.012022706679999828, -0.005428427364677191, -0.04126982390880585, -0.02033129334449768, -0.0498567633330822, 0.018483644351363182, 0.061860669404268265, 0.06282651424407959, 0.0416155569255352, -0.045466843992471695, 0.0192884374409914, -0.03265085071325302, -0.013324769213795662, -0.06577412039041519, 0.005088991951197386, -0.03999023139476776, -0.01577397994697094, 0.03447373956441879, 0.01079291757196188, 0.029033279046416283, 0.03061271272599697, -0.001973354257643223, -0.015447457320988178, -0.0361478254199028, -0.014478682540357113, -0.01794067770242691, -0.013087412342429161, -0.02652566321194172, 0.0829351544380188, -0.030662016943097115, -0.04679812490940094, 0.03663789480924606, -0.008300837129354477, -0.01961207017302513, -0.032079268246889114, -0.013030757196247578, -0.0415390320122242, -0.012154522351920605, 0.05365040525794029, -0.047567881643772125, -0.024919867515563965, -0.00948877539485693, 0.027495766058564186, 0.03029029257595539, 0.013942651450634003, 0.02304103597998619, -0.0257495678961277, -0.02490674890577793, 0.06856337934732437, -0.03681141510605812, -0.061570342630147934, 0.01118020061403513, 0.028377829119563103, -0.0319347083568573, -0.03780946880578995, 0.044630229473114014, -0.011954214423894882, -0.017678277567029, 0.015840431675314903, 0.0015772156184539199, -0.01286238245666027, 0.005707663483917713, -0.03581927716732025, -0.024077164009213448, 0.004814791027456522, -0.06933682411909103, 0.005075646564364433, 0.021910151466727257, 0.000683968944940716, -0.022323571145534515, 0.031191935762763023, 0.012506183236837387, -0.0011312819551676512, -0.03018505498766899, -0.00255750585347414, -0.004457559436559677, -0.059371329843997955, 0.04002390056848526, 0.0385042168200016, -0.06193890795111656, -0.03206617012619972, 0.07631148397922516, 0.049239758402109146, 0.035139333456754684, -0.030191592872142792, -0.02019442617893219, 0.006857407744973898, 0.016563232988119125, 0.029434066265821457, 0.07444146275520325, 0.027527958154678345, 0.056824006140232086, -0.002596912905573845, -0.02623450942337513, 0.01668885536491871, -0.030051911249756813, 0.052116889506578445, -0.015017980709671974, -0.03066382184624672, 0.0023656124249100685, -0.038517918437719345, -0.015562999993562698, -0.000175281340489164, -0.02014661394059658, -0.00159664754755795, -0.003939156420528889, 0.0010476791067048907, -0.05211223289370537, 0.04760037362575531, -0.03866156190633774, -0.005401363596320152, -0.02105828933417797, 0.009636495262384415, -7.948744314489886e-05, 0.02557743713259697, 0.07032975554466248, -0.009470362216234207, -0.029505304992198944, 0.014918241649866104, -0.004405455198138952, -0.005547523498535156, -0.04031175374984741, -0.08710449934005737, 0.0573236420750618, -0.05826176702976227, -0.033003341406583786, -0.002512392122298479, 0.020404240116477013, 0.019038395956158638, 0.04220986366271973, -0.010582208633422852, 0.08685674518346786, -0.01501774787902832, 0.017847223207354546, -0.04343411326408386, 0.053106196224689484, 0.04193476215004921, 0.047278810292482376, -0.06315066665410995, -0.018754227086901665, 0.02081451006233692, 0.02903447113931179, -0.038304951041936874, 0.029294397681951523, 0.021518725901842117, 0.022489741444587708, 0.028942303732037544, 0.018562449142336845, 0.0033979068975895643, -0.06659888476133347, -0.04513569548726082, 0.003489382565021515, -0.03421403095126152, -0.006298314314335585, 0.029880374670028687, 0.022457722574472427, -0.009244008921086788, -0.05421603471040726, -0.006734688300639391, 0.006587361916899681, 0.04679363593459129, -0.05002453178167343, -0.0125700943171978, -0.004645033739507198, -0.012525944970548153, 0.036464739590883255, -0.02964830957353115, 0.0031771427020430565, 0.010999685153365135, 0.008898266591131687, 0.05636730417609215, 0.04859408736228943, -0.021826723590493202, 0.019700491800904274, -0.009636773727834225, 0.028417764231562614, -0.02978828176856041, 0.023946648463606834, -0.030277719721198082, 0.02480679377913475, 0.006310024298727512, 0.02231215499341488, 0.03386526554822922, 0.04612540081143379, 0.0030127717182040215, -0.06834080815315247, -0.03201562911272049, 0.0014105451991781592, -0.01856502704322338, -0.04004231095314026, 0.09389615058898926, -0.010419662110507488, -0.027747849002480507, 0.036660000681877136, 0.020444663241505623, 0.04988006874918938, 0.03233972191810608, -0.023310018703341484, 0.03369966149330139, -0.016068611294031143, -0.0003215245669707656, -0.033729229122400284, -5.035954018239863e-05, -0.007258303929120302, 0.05736459419131279, 0.02799287810921669, -0.07138503342866898, 0.008840251713991165, 0.02728695422410965, 0.08911832422018051, -0.013118751347064972, -0.0348399356007576, -0.00146106060128659, -0.07573432475328445, 0.027602534741163254, 0.01373125147074461, 0.05570018291473389, -0.017358291894197464, 0.004354990553110838, -0.008713564835488796, 0.04896555095911026, -0.0259902011603117, 0.013780063018202782, -0.10097406059503555, -0.03288346901535988, 0.01802816428244114, 0.06073692440986633, -0.016268858686089516, 0.020886056125164032, -0.05147828534245491, -0.015320676378905773, -0.03371849283576012, -0.004098772536963224, 0.02847478538751602, 0.016411464661359787, 0.04137315973639488, 0.01773572526872158, -0.017215678468346596, -0.08992722630500793, -0.0066177393309772015, 0.017480939626693726, -0.061185967177152634, -0.013730278238654137, -0.01257550623267889, -0.0008870190940797329, 0.01659100502729416, 0.03348047658801079, 0.015734344720840454, -0.0307810977101326, 0.05256316810846329, -0.024261945858597755, -0.016742341220378876, 0.042909033596515656, 0.023710742592811584, -0.027595290914177895, 0.007936764508485794, 0.021367771551012993, 0.006200782954692841, -0.04533170536160469, 0.03260944038629532, 0.03417990729212761, 0.0052536060102283955, -0.014117100276052952, 0.04058624431490898, 0.016744108870625496, -0.020468395203351974, -0.016801834106445312, -0.10749605298042297, 0.003785601118579507, -0.06766506284475327, 0.0012538755545392632, -0.042515140026807785, 0.013550695963203907, 0.05142756178975105, 0.028786716982722282, -0.09925064444541931, -0.03712926059961319, -0.031663164496421814, -0.011604806408286095, -0.041268110275268555, -0.012863129377365112, 0.037637948989868164, -0.03343326225876808, -0.03398877754807472, 0.04429527372121811, 0.040650103241205215, 0.03230702131986618, -0.02371181547641754, 0.030634677037596703, -0.020267298445105553, -0.04645223543047905, -0.004319048952311277, 0.036653708666563034, 0.010196459479629993, 0.06531507521867752, 0.03410595655441284, 0.062274057418107986, 0.003384531708434224, 0.0026596493553370237, -0.009786553680896759, 0.07861858606338501, 0.03752477839589119, -0.010156417265534401, 0.018649965524673462, 0.046844299882650375, -0.022077951580286026, -0.008438928984105587, 0.0836460292339325, -0.048990122973918915, -0.021181225776672363, 0.01582345739006996, 0.02965233474969864, 0.074785977602005, -0.031640633940696716, 0.024027442559599876, -0.007380184717476368, -0.0034209841396659613, 0.00779893109574914, -0.007587703410536051, -0.011714031919836998, 0.030805999413132668, 0.003603580640628934, 0.02646547183394432, 0.06881196051836014, -0.0298148263245821, 0.002992405788972974, -0.018983371555805206, -4.61458711248719e-33, 0.009169361554086208, -0.020361226052045822, -0.0003472639946267009, 0.022723186761140823, -0.04541834071278572, -0.014177520759403706, -0.012381265871226788, -0.00557235861197114, -0.06163761764764786, -0.016380641609430313, 0.018011124804615974, -0.028827475383877754, -0.010214854031801224, -0.0270855575799942, -0.03140399977564812, -0.003877329872921109, -0.045258697122335434, 0.030616527423262596, -0.023576509207487106, -0.04141535609960556, 0.010370839387178421, -0.006587208714336157, -0.004970187786966562, 0.06902340799570084, -0.023063484579324722, -0.018071088939905167, -0.02880692295730114, 0.02788025327026844, 0.011012245900928974, -0.015612596645951271, 0.043970488011837006, -0.009083615615963936, -0.021238116547465324, 0.03314797207713127, 0.002907669637352228, -0.04020637646317482, 0.003609270788729191, -0.06582694500684738, 0.05409989133477211, 0.0277122613042593, 0.06144146993756294, -0.03232793137431145, 0.012775378301739693, 0.0015274921897798777, -0.024306993931531906, 0.003161325352266431, -0.005416715983301401, 0.0009658695780672133, -0.058190103620290756, 0.005097233224660158, -0.050755009055137634, -0.05567772686481476, -0.07791173458099365, -0.01137226540595293, 0.06888275593519211, 0.04305659979581833, 0.02994535118341446, 0.012102418579161167, 0.06004343926906586, -0.035434700548648834, 0.060544393956661224, 0.003712124191224575, -0.003234812757000327, -0.028546042740345, 0.06411197036504745, -0.03861032426357269, 0.014698438346385956, -0.010455354116857052, -0.001424308866262436, 0.026733962818980217, 0.009079257026314735, -0.05319276824593544, -0.07349172979593277, -0.0013610577443614602, -0.08696109801530838, -0.05593809112906456, -0.03930015489459038, -0.022045619785785675, 0.03972082957625389, 0.04117286577820778, 0.004582534544169903, 0.009203585796058178, 0.06079454347491264, 0.03201217204332352, 0.001255530514754355, -0.0050712088122963905, 0.022516299039125443, 0.005949070211499929, -0.0381438210606575, -0.0032084686681628227, 0.015214713290333748, 0.04762842133641243, 0.033982373774051666, 0.055966757237911224, 0.07463281601667404, 0.009180966764688492, -0.029885338619351387, -0.002951990347355604, -0.03372916951775551, -0.01567087695002556, 0.03328985720872879, 0.013770203106105328, -0.06361743062734604, -0.10468790680170059, 0.010369745083153248, 0.0015671545406803489, -0.016726220026612282, -0.0015853573568165302, 0.022908683866262436, 0.005216694436967373, -0.016569005325436592, -0.029696399345993996, -0.01384986937046051, 0.02223927155137062, -0.003987367730587721, 0.060033589601516724, -0.01787007413804531, -0.007981722243130207, -0.03514964506030083, -0.00949606578797102, 0.08138161152601242, 0.020252270624041557, 0.07176303118467331, 0.030268879607319832, -0.045137807726860046, -0.02206086553633213, -0.04995995759963989, 0.006028119008988142, 0.005686087068170309, 0.029723022133111954, 0.018756095319986343, 0.023958126083016396, 1.8848216143396712e-07, -0.00889948196709156, 0.025390541180968285, -0.0315912701189518, 0.09033212065696716, 0.040417663753032684, -0.07445016503334045, 0.030459001660346985, -0.03790020942687988, 0.0007032384746707976, 0.011397839523851871, -0.020177680999040604, -0.017576368525624275, -0.034417178481817245, -0.014209053479135036, -0.025911493226885796, -0.028570473194122314, 0.007219885941594839, 0.007901388220489025, 0.03140019252896309, 0.04223686084151268, 0.012716762721538544, 0.07193149626255035, 0.015291310846805573, 0.0034262812696397305, 0.02669263817369938, 0.023954086005687714, 0.038320835679769516, -0.08322848379611969, -0.03809073567390442, 0.041714318096637726, 0.027601920068264008, 0.004804800730198622, -0.005127641838043928, 0.02840358205139637, 0.07467854022979736, -0.017524130642414093, 0.0015810680342838168, 0.017515871673822403, 0.03968723863363266, 0.030923517420887947, -0.060775306075811386, -0.0005116869579069316, 0.009043767116963863, -0.03448864072561264, 0.026286065578460693, 0.02141876146197319, -0.11718716472387314, 0.010593992657959461, 0.02455313131213188, 0.00929332710802555, 0.059562791138887405, -0.022321444004774094, 0.012254788540303707, 0.01067729014903307, -0.030176321044564247, 0.018458368256688118, 0.011403498239815235, -0.02875765785574913, -0.007896073162555695, 0.03257159888744354, -0.027789432555437088, -0.03157082200050354, -0.03762900456786156, 0.01603982038795948, 0.0321667343378067, 0.0491887629032135, 0.06103741005063057, 5.046254329089184e-35, -0.040199171751737595, 0.0029931622557342052, -0.0026101816911250353, 0.09860958158969879, 0.028455646708607674, -0.04290405660867691, -0.012904634699225426, -0.005726601928472519, -0.013848919421434402, -0.008159705437719822, -0.02722393535077572]\n"
     ]
    }
   ],
   "source": [
    "query = \"Can you tell me about the layover time for my journey?\"\n",
    "\n",
    "query_embedding = embeddings_model.embed_query(query)\n",
    "print(query_embedding)"
   ]
  },
  {
   "cell_type": "code",
   "execution_count": 35,
   "metadata": {},
   "outputs": [
    {
     "name": "stdout",
     "output_type": "stream",
     "text": [
      "{'matches': [{'id': '20e40c21-b969-422b-9f5c-70974fdb534a',\n",
      "              'metadata': {'text': '{\"ticket_info\": {\"flight_route\": '\n",
      "                                   '{\"layover_duration\": \"55 minutes\"}}}'},\n",
      "              'score': 0.618535638,\n",
      "              'values': []},\n",
      "             {'id': '6546eaaa-5b86-4abd-bda5-d0c07a716c69',\n",
      "              'metadata': {'text': '{\"ticket_info\": {\"flight_segments\": {\"1\": '\n",
      "                                   '{\"arrival\": {\"airport\": \"Indira Gandhi '\n",
      "                                   'International Airport\", \"iata_code\": '\n",
      "                                   '\"DEL\", \"date\": \"2024-07-12\", \"time\": '\n",
      "                                   '\"08:10:00 UTC\"}}}}}'},\n",
      "              'score': 0.485283256,\n",
      "              'values': []},\n",
      "             {'id': '5710c950-6811-467c-8ad9-f0c3eeccf447',\n",
      "              'metadata': {'text': '{\"ticket_info\": {\"flight_segments\": {\"0\": '\n",
      "                                   '{\"departure\": {\"airport\": \"Cape Town '\n",
      "                                   'International Airport\", \"iata_code\": '\n",
      "                                   '\"CPT\", \"date\": \"2024-07-11\", \"time\": '\n",
      "                                   '\"14:35:00 UTC\"}}}}}'},\n",
      "              'score': 0.478651851,\n",
      "              'values': []},\n",
      "             {'id': '32cf0eb2-3f20-4f77-b077-186d31ef7f37',\n",
      "              'metadata': {'text': '{\"ticket_info\": {\"flight_segments\": {\"0\": '\n",
      "                                   '{\"arrival\": {\"airport\": \"Addis Ababa Bole '\n",
      "                                   'International Airport\", \"iata_code\": '\n",
      "                                   '\"ADD\", \"date\": \"2024-07-11\", \"time\": '\n",
      "                                   '\"22:00:00 UTC\"}}}}}'},\n",
      "              'score': 0.468552321,\n",
      "              'values': []}],\n",
      " 'namespace': 'vector_store',\n",
      " 'usage': {'read_units': 6}}\n"
     ]
    }
   ],
   "source": [
    "results = index.query(\n",
    "    namespace=\"vector_store\",\n",
    "    vector=query_embedding,\n",
    "    top_k=4,\n",
    "    include_values=False,\n",
    "    include_metadata=True\n",
    ")\n",
    "\n",
    "print(results)"
   ]
  },
  {
   "cell_type": "markdown",
   "metadata": {},
   "source": [
    "### LLM "
   ]
  },
  {
   "cell_type": "code",
   "execution_count": 36,
   "metadata": {},
   "outputs": [],
   "source": [
    "from langchain_groq import ChatGroq\n",
    "llm = ChatGroq(model = \"llama3-8b-8192\")"
   ]
  },
  {
   "cell_type": "code",
   "execution_count": 37,
   "metadata": {},
   "outputs": [
    {
     "data": {
      "text/plain": [
       "AIMessage(content=\"I'm just a language model, so I don't have feelings or emotions like humans do. However, I'm functioning properly and ready to help you with any questions or tasks you may have! How can I assist you today?\", additional_kwargs={}, response_metadata={'token_usage': {'completion_tokens': 47, 'prompt_tokens': 16, 'total_tokens': 63, 'completion_time': 0.039166667, 'prompt_time': 0.000563847, 'queue_time': 0.01468609, 'total_time': 0.039730514}, 'model_name': 'llama3-8b-8192', 'system_fingerprint': 'fp_179b0f92c9', 'finish_reason': 'stop', 'logprobs': None}, id='run-2d7f6ec7-b7ee-4665-9d74-31b8e6836921-0', usage_metadata={'input_tokens': 16, 'output_tokens': 47, 'total_tokens': 63})"
      ]
     },
     "execution_count": 37,
     "metadata": {},
     "output_type": "execute_result"
    }
   ],
   "source": [
    "llm.invoke(\"Hello, how are you?\")"
   ]
  },
  {
   "cell_type": "markdown",
   "metadata": {},
   "source": [
    "### Retriever"
   ]
  },
  {
   "cell_type": "code",
   "execution_count": 38,
   "metadata": {},
   "outputs": [],
   "source": [
    "from langchain.chains import create_retrieval_chain\n",
    "from langchain.chains.combine_documents import create_stuff_documents_chain\n",
    "from langchain import hub\n",
    "\n",
    "retrieval_qa_chat_prompt = hub.pull(\"langchain-ai/retrieval-qa-chat\")\n",
    "retriever=docsearch.as_retriever()\n",
    "\n",
    "combine_docs_chain = create_stuff_documents_chain(\n",
    "    llm, retrieval_qa_chat_prompt\n",
    ")\n",
    "retrieval_chain = create_retrieval_chain(retriever, combine_docs_chain)\n"
   ]
  },
  {
   "cell_type": "code",
   "execution_count": 39,
   "metadata": {},
   "outputs": [
    {
     "name": "stdout",
     "output_type": "stream",
     "text": [
      "Answer with knowledge:\n",
      "\n",
      " According to the information provided, the layover duration is 55 minutes.\n",
      "\n",
      "Context used:\n",
      "\n",
      " [Document(id='20e40c21-b969-422b-9f5c-70974fdb534a', metadata={}, page_content='{\"ticket_info\": {\"flight_route\": {\"layover_duration\": \"55 minutes\"}}}'), Document(id='6546eaaa-5b86-4abd-bda5-d0c07a716c69', metadata={}, page_content='{\"ticket_info\": {\"flight_segments\": {\"1\": {\"arrival\": {\"airport\": \"Indira Gandhi International Airport\", \"iata_code\": \"DEL\", \"date\": \"2024-07-12\", \"time\": \"08:10:00 UTC\"}}}}}'), Document(id='5710c950-6811-467c-8ad9-f0c3eeccf447', metadata={}, page_content='{\"ticket_info\": {\"flight_segments\": {\"0\": {\"departure\": {\"airport\": \"Cape Town International Airport\", \"iata_code\": \"CPT\", \"date\": \"2024-07-11\", \"time\": \"14:35:00 UTC\"}}}}}'), Document(id='32cf0eb2-3f20-4f77-b077-186d31ef7f37', metadata={}, page_content='{\"ticket_info\": {\"flight_segments\": {\"0\": {\"arrival\": {\"airport\": \"Addis Ababa Bole International Airport\", \"iata_code\": \"ADD\", \"date\": \"2024-07-11\", \"time\": \"22:00:00 UTC\"}}}}}')]\n",
      "\n",
      "\n"
     ]
    }
   ],
   "source": [
    "query1 = \"Can you tell me about the layover time for my journey?\"\n",
    "answer1_with_knowledge = retrieval_chain.invoke({\"input\": query1})\n",
    "\n",
    "print(\"Answer with knowledge:\\n\\n\", answer1_with_knowledge['answer'])\n",
    "print(\"\\nContext used:\\n\\n\", answer1_with_knowledge['context'])\n",
    "print(\"\\n\")"
   ]
  },
  {
   "cell_type": "code",
   "execution_count": 40,
   "metadata": {},
   "outputs": [
    {
     "name": "stdout",
     "output_type": "stream",
     "text": [
      "Answer with knowledge:\n",
      "\n",
      " According to the provided information, your total checked baggage allowance is 69kg, as mentioned in the \"baggage_summary\" section of the ticket info.\n",
      "\n",
      "Context used:\n",
      "\n",
      " [Document(id='8affbc30-8a50-463a-b134-b656a0308c5d', metadata={}, page_content='{\"ticket_info\": {\"baggage_summary\": {\"total_cabin_baggage\": \"21kg\", \"total_check_in_baggage\": \"69kg\"}}}'), Document(id='95a98df1-bb0a-41f8-8e24-d16e8391268b', metadata={}, page_content='{\"ticket_info\": {\"embedded_text_descriptions\": {\"passenger_summary\": \"Passengers: Surendra Singh, Narinder Kaur, Samik Singh, traveling with 7kg cabin baggage and 23kg check-in baggage each.\"}}}'), Document(id='0378660e-5e1a-4806-89e1-0c687f393503', metadata={}, page_content='{\"ticket_info\": {\"passenger_details\": {\"passengers\": {\"0\": {\"full_name\": \"Surendra Singh\", \"seat_number\": \"21A\", \"baggage\": {\"cabin\": \"7kg\", \"check_in\": \"23kg\"}}}}}}'), Document(id='6c5ac1f4-65af-4ab6-9e6e-61682c566e71', metadata={}, page_content='{\"ticket_info\": {\"passenger_details\": {\"passengers\": {\"2\": {\"full_name\": \"Samik Singh\", \"seat_number\": \"21C\", \"baggage\": {\"cabin\": \"7kg\", \"check_in\": \"23kg\"}}}}}}')]\n",
      "\n",
      "\n"
     ]
    }
   ],
   "source": [
    "query2 = \"Do I have any checked baggage allowance for my flights?\"\n",
    "\n",
    "answer2_with_knowledge = retrieval_chain.invoke({\"input\": query2})\n",
    "\n",
    "print(\"Answer with knowledge:\\n\\n\", answer2_with_knowledge['answer'])\n",
    "print(\"\\nContext used:\\n\\n\", answer2_with_knowledge['context'])\n",
    "print(\"\\n\")"
   ]
  },
  {
   "cell_type": "code",
   "execution_count": 41,
   "metadata": {},
   "outputs": [
    {
     "name": "stdout",
     "output_type": "stream",
     "text": [
      "Answer with knowledge:\n",
      "\n",
      " Unfortunately, you didn't provide any information about the flight you're referring to. However, based on the context you provided, I can see three different sets of passenger details for different flights. The first set of passenger details doesn't mention a flight number, but the second set mentions flight numbers ET846 and ET686. Could you please specify which flight you're referring to?\n",
      "\n",
      "Context used:\n",
      "\n",
      " [Document(id='cd38204c-a5e6-4cb9-8f3c-cc7050a7de39', metadata={}, page_content='{\"ticket_info\": {\"embedded_text_descriptions\": {\"flight_details\": \"Flight numbers ET846 and ET686, Economy class, from CPT to DEL on July 11, 2024\"}}}'), Document(id='6c5ac1f4-65af-4ab6-9e6e-61682c566e71', metadata={}, page_content='{\"ticket_info\": {\"passenger_details\": {\"passengers\": {\"2\": {\"full_name\": \"Samik Singh\", \"seat_number\": \"21C\", \"baggage\": {\"cabin\": \"7kg\", \"check_in\": \"23kg\"}}}}}}'), Document(id='8ad93470-9f28-437e-84a2-4ebdb3066046', metadata={}, page_content='{\"ticket_info\": {\"passenger_details\": {\"passengers\": {\"1\": {\"full_name\": \"Narinder Kaur\", \"seat_number\": \"21B\", \"baggage\": {\"cabin\": \"7kg\", \"check_in\": \"23kg\"}}}}}}'), Document(id='0378660e-5e1a-4806-89e1-0c687f393503', metadata={}, page_content='{\"ticket_info\": {\"passenger_details\": {\"passengers\": {\"0\": {\"full_name\": \"Surendra Singh\", \"seat_number\": \"21A\", \"baggage\": {\"cabin\": \"7kg\", \"check_in\": \"23kg\"}}}}}}')]\n",
      "\n",
      "\n"
     ]
    }
   ],
   "source": [
    "query3 = \"What’s my seat for the first flight?\"\n",
    "\n",
    "answer3_with_knowledge = retrieval_chain.invoke({\"input\": query3})\n",
    "\n",
    "print(\"Answer with knowledge:\\n\\n\", answer3_with_knowledge['answer'])\n",
    "print(\"\\nContext used:\\n\\n\", answer3_with_knowledge['context'])\n",
    "print(\"\\n\")"
   ]
  },
  {
   "cell_type": "code",
   "execution_count": 42,
   "metadata": {},
   "outputs": [
    {
     "name": "stdout",
     "output_type": "stream",
     "text": [
      "Answer with knowledge:\n",
      "\n",
      " According to the context, you are arriving at Indira Gandhi International Airport (DEL) in Delhi, and the expected arrival time is 08:10:00 UTC on July 12, 2024.\n",
      "\n",
      "Context used:\n",
      "\n",
      " [Document(id='6546eaaa-5b86-4abd-bda5-d0c07a716c69', metadata={}, page_content='{\"ticket_info\": {\"flight_segments\": {\"1\": {\"arrival\": {\"airport\": \"Indira Gandhi International Airport\", \"iata_code\": \"DEL\", \"date\": \"2024-07-12\", \"time\": \"08:10:00 UTC\"}}}}}'), Document(id='7964ca84-0417-4bef-94c5-68e0c1ec8a07', metadata={}, page_content='{\"ticket_info\": {\"flight_route\": {\"destination_airport\": {\"name\": \"Indira Gandhi International Airport\", \"iata_code\": \"DEL\", \"city\": \"New Delhi\", \"country\": \"India\"}}}}'), Document(id='32cf0eb2-3f20-4f77-b077-186d31ef7f37', metadata={}, page_content='{\"ticket_info\": {\"flight_segments\": {\"0\": {\"arrival\": {\"airport\": \"Addis Ababa Bole International Airport\", \"iata_code\": \"ADD\", \"date\": \"2024-07-11\", \"time\": \"22:00:00 UTC\"}}}}}'), Document(id='99b592ad-501f-418e-bf58-222e4c4b3b9d', metadata={}, page_content='{\"ticket_info\": {\"embedded_text_descriptions\": {\"route_description\": \"Cape Town International Airport (CPT) to Indira Gandhi International Airport (DEL) via Addis Ababa Bole International Airport (ADD)\"}}}')]\n"
     ]
    }
   ],
   "source": [
    "query4 = \"Which airport am I arriving at in Delhi, and what’s the expected arrival time?\"\n",
    "\n",
    "answer4_with_knowledge = retrieval_chain.invoke({\"input\": query4})\n",
    "\n",
    "print(\"Answer with knowledge:\\n\\n\", answer4_with_knowledge['answer'])\n",
    "print(\"\\nContext used:\\n\\n\", answer4_with_knowledge['context'])"
   ]
  },
  {
   "cell_type": "code",
   "execution_count": 43,
   "metadata": {},
   "outputs": [
    {
     "name": "stdout",
     "output_type": "stream",
     "text": [
      "Answer with knowledge:\n",
      "\n",
      " According to the given context, you arrive in Delhi (Indira Gandhi International Airport, IATA code \"DEL\") at 08:10:00 UTC on July 12, 2024.\n",
      "\n",
      "Context used:\n",
      "\n",
      " [Document(id='6546eaaa-5b86-4abd-bda5-d0c07a716c69', metadata={}, page_content='{\"ticket_info\": {\"flight_segments\": {\"1\": {\"arrival\": {\"airport\": \"Indira Gandhi International Airport\", \"iata_code\": \"DEL\", \"date\": \"2024-07-12\", \"time\": \"08:10:00 UTC\"}}}}}'), Document(id='7964ca84-0417-4bef-94c5-68e0c1ec8a07', metadata={}, page_content='{\"ticket_info\": {\"flight_route\": {\"destination_airport\": {\"name\": \"Indira Gandhi International Airport\", \"iata_code\": \"DEL\", \"city\": \"New Delhi\", \"country\": \"India\"}}}}'), Document(id='32cf0eb2-3f20-4f77-b077-186d31ef7f37', metadata={}, page_content='{\"ticket_info\": {\"flight_segments\": {\"0\": {\"arrival\": {\"airport\": \"Addis Ababa Bole International Airport\", \"iata_code\": \"ADD\", \"date\": \"2024-07-11\", \"time\": \"22:00:00 UTC\"}}}}}'), Document(id='3abbd8e8-8445-47b1-b382-20eb9c0300ad', metadata={}, page_content='{\"ticket_info\": {\"flight_schedule\": {\"arrival\": {\"date\": \"2024-07-12\", \"time\": \"08:10:00 UTC\", \"full_datetime\": \"2024-07-12T08:10:00.000Z\"}}}}')]\n"
     ]
    }
   ],
   "source": [
    "query5 = \"What time do I arrive in Delhi?\"\n",
    "\n",
    "answer5_with_knowledge = retrieval_chain.invoke({\"input\": query5})\n",
    "\n",
    "print(\"Answer with knowledge:\\n\\n\", answer5_with_knowledge['answer'])\n",
    "print(\"\\nContext used:\\n\\n\", answer5_with_knowledge['context'])"
   ]
  },
  {
   "cell_type": "code",
   "execution_count": null,
   "metadata": {},
   "outputs": [],
   "source": []
  },
  {
   "cell_type": "markdown",
   "metadata": {},
   "source": [
    "### Creating Prompt Template"
   ]
  },
  {
   "cell_type": "code",
   "execution_count": 44,
   "metadata": {},
   "outputs": [
    {
     "name": "stdout",
     "output_type": "stream",
     "text": [
      "I don't know which flight is the \"first flight\" as there are multiple flights mentioned (ET846 and ET686), but I can tell you that the passenger named Surendra Singh is sitting in seat 21A.\n"
     ]
    }
   ],
   "source": [
    "from langchain.chains import create_retrieval_chain\n",
    "from langchain.chains.combine_documents import create_stuff_documents_chain\n",
    "from langchain_core.prompts import ChatPromptTemplate\n",
    "\n",
    "system_prompt = (\n",
    "    \"You are an assistant for question-answering tasks. \"\n",
    "    \"Use the following pieces of retrieved context to answer \"\n",
    "    \"the question. If you don't know the answer, say that you \"\n",
    "    \"don't know. Use three sentences maximum and keep the \"\n",
    "    \"answer concise.\"\n",
    "    \"\\n\\n\"\n",
    "    \"{context}\"\n",
    ")\n",
    "\n",
    "prompt = ChatPromptTemplate.from_messages(\n",
    "    [\n",
    "        (\"system\", system_prompt),\n",
    "        (\"human\", \"{input}\"),\n",
    "    ]\n",
    ")\n",
    "\n",
    "\n",
    "question_answer_chain = create_stuff_documents_chain(llm, prompt)\n",
    "\n",
    "question_answer_chain\n",
    "rag_chain = create_retrieval_chain(retriever, question_answer_chain)\n",
    "\n",
    "response = rag_chain.invoke({\"input\": \"What’s my seat for the first flight?\"})\n",
    "print(response[\"answer\"])"
   ]
  },
  {
   "cell_type": "code",
   "execution_count": 45,
   "metadata": {},
   "outputs": [
    {
     "name": "stdout",
     "output_type": "stream",
     "text": [
      "According to the ticket information, you arrive in Indira Gandhi International Airport (DEL) at 08:10:00 UTC on July 12, 2024.\n"
     ]
    }
   ],
   "source": [
    "response = rag_chain.invoke({\"input\": \"What time do I arrive in Delhi?\"})\n",
    "print(response[\"answer\"])"
   ]
  },
  {
   "cell_type": "code",
   "execution_count": 46,
   "metadata": {},
   "outputs": [
    {
     "name": "stdout",
     "output_type": "stream",
     "text": [
      "According to the ticket information, the layover duration for your flight is 55 minutes.\n"
     ]
    }
   ],
   "source": [
    "response = rag_chain.invoke({\"input\": \"Can you tell me about the layover time for my journey?\"})\n",
    "print(response[\"answer\"])"
   ]
  },
  {
   "cell_type": "code",
   "execution_count": 47,
   "metadata": {},
   "outputs": [
    {
     "name": "stdout",
     "output_type": "stream",
     "text": [
      "Your flight from Cape Town International Airport (CPT) to Addis Ababa Bole International Airport (ADD) departs at 14:35:00 UTC on July 11, 2024. The arrival time is 22:00:00 UTC on July 11, 2024.\n"
     ]
    }
   ],
   "source": [
    "response = rag_chain.invoke({\"input\": \"What time is my flight from Cape Town to Addis Ababa, and what’s the arrival time?\"})\n",
    "print(response[\"answer\"])"
   ]
  },
  {
   "cell_type": "code",
   "execution_count": 48,
   "metadata": {},
   "outputs": [
    {
     "name": "stdout",
     "output_type": "stream",
     "text": [
      "According to the ticket information, the total checked baggage allowance is 69kg.\n"
     ]
    }
   ],
   "source": [
    "response = rag_chain.invoke({\"input\": \"Do I have any checked baggage allowance for my flights?\"})\n",
    "print(response[\"answer\"])"
   ]
  },
  {
   "cell_type": "code",
   "execution_count": 49,
   "metadata": {},
   "outputs": [
    {
     "name": "stdout",
     "output_type": "stream",
     "text": [
      "According to the ticket information, the first flight's details are not mentioned, but since you're asking about your seat for the first flight, I'm assuming you're asking about one of the flights mentioned in the context. Unfortunately, I don't know which flight you're referring to, but for flights ET846 and ET686, I can see that there are passengers with seat numbers 21A, 21B, and 21C.\n"
     ]
    }
   ],
   "source": [
    "response = rag_chain.invoke({\"input\": \"What’s my seat for the first flight?\"})\n",
    "print(response[\"answer\"])"
   ]
  },
  {
   "cell_type": "code",
   "execution_count": 51,
   "metadata": {},
   "outputs": [
    {
     "name": "stdout",
     "output_type": "stream",
     "text": [
      "Based on the provided context, the passenger details for the first flight are:\n",
      "\n",
      "Passenger 0: \n",
      "- Full name: Surendra Singh\n",
      "- Seat number: 21A\n",
      "- Cabin baggage allowance: 7kg\n",
      "- Check-in baggage allowance: 23kg\n"
     ]
    }
   ],
   "source": [
    "response = rag_chain.invoke({\"input\": \"What’s my seat for the first flight and the passenger details?\"})\n",
    "print(response[\"answer\"])"
   ]
  },
  {
   "cell_type": "code",
   "execution_count": null,
   "metadata": {},
   "outputs": [],
   "source": []
  },
  {
   "cell_type": "markdown",
   "metadata": {},
   "source": [
    "### Prompt Template"
   ]
  },
  {
   "cell_type": "code",
   "execution_count": 50,
   "metadata": {},
   "outputs": [
    {
     "name": "stdout",
     "output_type": "stream",
     "text": [
      "I'm not sure, as there's no information about the first flight in the provided context.\n"
     ]
    }
   ],
   "source": [
    "from langchain.chains import create_retrieval_chain\n",
    "from langchain.chains.combine_documents import create_stuff_documents_chain\n",
    "from langchain_core.prompts import ChatPromptTemplate\n",
    "\n",
    "system_prompt = (\n",
    "    \"You are a travel assistant specialized in providing concise and accurate answers about flight itineraries. \"\n",
    "    \"Use the following context to answer questions about flight segments, layovers, seat details, baggage allowances, and airport information. \"\n",
    "    \"Respond to each question based on the retrieved context. If the answer isn’t available in the data, respond with “I’m not sure” or “That information is not available.” \"\n",
    "    \"Keep answers to a maximum of three sentences and ensure they are clear and direct.\"\n",
    "    \"\\n\\n\"\n",
    "    \"{context}\"\n",
    ")\n",
    "\n",
    "prompt = ChatPromptTemplate.from_messages(\n",
    "    [\n",
    "        (\"system\", system_prompt),\n",
    "        (\"human\", \"{input}\"),\n",
    "    ]\n",
    ")\n",
    "\n",
    "question_answer_chain = create_stuff_documents_chain(llm, prompt)\n",
    "\n",
    "rag_chain = create_retrieval_chain(retriever, question_answer_chain)\n",
    "\n",
    "response = rag_chain.invoke({\"input\": \"What’s my seat for the first flight?\"})\n",
    "print(response[\"answer\"])"
   ]
  },
  {
   "cell_type": "code",
   "execution_count": 52,
   "metadata": {},
   "outputs": [
    {
     "name": "stdout",
     "output_type": "stream",
     "text": [
      "According to the context, there are 3 passengers in total. Here are the passenger details:\n",
      "\n",
      "1. Surendra Singh\n",
      "\t* Seat Number: 21A\n",
      "\t* Cabin Baggage: 7kg\n",
      "\t* Check-in Baggage: 23kg\n",
      "2. Narinder Kaur\n",
      "\t* (No information available)\n",
      "3. Samik Singh\n",
      "\t* Seat Number: 21C\n",
      "\t* Cabin Baggage: 7kg\n",
      "\t* Check-in Baggage: 23kg\n"
     ]
    }
   ],
   "source": [
    "response = rag_chain.invoke({\"input\": \"How many passengers are there and list all the passenger details?\"})\n",
    "print(response[\"answer\"])"
   ]
  },
  {
   "cell_type": "code",
   "execution_count": null,
   "metadata": {},
   "outputs": [],
   "source": []
  }
 ],
 "metadata": {
  "kernelspec": {
   "display_name": "venv",
   "language": "python",
   "name": "python3"
  },
  "language_info": {
   "codemirror_mode": {
    "name": "ipython",
    "version": 3
   },
   "file_extension": ".py",
   "mimetype": "text/x-python",
   "name": "python",
   "nbconvert_exporter": "python",
   "pygments_lexer": "ipython3",
   "version": "3.11.3"
  }
 },
 "nbformat": 4,
 "nbformat_minor": 2
}
