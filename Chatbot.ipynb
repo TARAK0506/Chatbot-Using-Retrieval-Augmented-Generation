{
 "cells": [
  {
   "cell_type": "markdown",
   "metadata": {},
   "source": [
    "### Installations"
   ]
  },
  {
   "cell_type": "code",
   "execution_count": null,
   "metadata": {},
   "outputs": [],
   "source": [
    "%pip install -qU langchain_community jq "
   ]
  },
  {
   "cell_type": "code",
   "execution_count": 1,
   "metadata": {},
   "outputs": [],
   "source": [
    "import warnings\n",
    "warnings.filterwarnings(\"ignore\")"
   ]
  },
  {
   "cell_type": "markdown",
   "metadata": {},
   "source": [
    "### Initialization"
   ]
  },
  {
   "cell_type": "code",
   "execution_count": 2,
   "metadata": {},
   "outputs": [],
   "source": [
    "from langchain_community.document_loaders import JSONLoader\n",
    "import json\n",
    "from pathlib import Path\n",
    "\n",
    "file_path='./Journey_details.json'\n",
    "data = json.loads(Path(file_path).read_text())\n",
    "loader = JSONLoader(\n",
    "         file_path=file_path,\n",
    "         jq_schema=\".user.flights[]\",\n",
    "         text_content=False)"
   ]
  },
  {
   "cell_type": "code",
   "execution_count": 3,
   "metadata": {},
   "outputs": [
    {
     "data": {
      "text/plain": [
       "{'ticket_info': {'ticket_id': 'ticket_227_3183',\n",
       "  'namespace': 'flight_bookings',\n",
       "  'pnr': 'HZAVJJ',\n",
       "  'class': 'Economy',\n",
       "  'user_id': 227,\n",
       "  'flight_route': {'source_airport': {'name': 'Cape Town International Airport',\n",
       "    'iata_code': 'CPT',\n",
       "    'city': 'Cape Town',\n",
       "    'country': 'South Africa'},\n",
       "   'destination_airport': {'name': 'Indira Gandhi International Airport',\n",
       "    'iata_code': 'DEL',\n",
       "    'city': 'New Delhi',\n",
       "    'country': 'India'},\n",
       "   'intermediate_airports': [{'name': 'Addis Ababa Bole International Airport',\n",
       "     'iata_code': 'ADD',\n",
       "     'city': 'Addis Ababa',\n",
       "     'country': 'Ethiopia'}],\n",
       "   'layover_duration': '55 minutes'},\n",
       "  'flight_schedule': {'departure': {'date': '2024-07-11',\n",
       "    'time': '14:35:00 UTC',\n",
       "    'full_datetime': '2024-07-11T14:35:00.000Z'},\n",
       "   'arrival': {'date': '2024-07-12',\n",
       "    'time': '08:10:00 UTC',\n",
       "    'full_datetime': '2024-07-12T08:10:00.000Z'}},\n",
       "  'flight_segments': [{'segment_number': 1,\n",
       "    'flight_number': 'ET846',\n",
       "    'departure': {'airport': 'Cape Town International Airport',\n",
       "     'iata_code': 'CPT',\n",
       "     'date': '2024-07-11',\n",
       "     'time': '14:35:00 UTC',\n",
       "     'full_datetime': '2024-07-11T14:35:00.000Z'},\n",
       "    'arrival': {'airport': 'Addis Ababa Bole International Airport',\n",
       "     'iata_code': 'ADD',\n",
       "     'date': '2024-07-11',\n",
       "     'time': '22:00:00 UTC',\n",
       "     'full_datetime': '2024-07-11T22:00:00.000Z'}},\n",
       "   {'segment_number': 2,\n",
       "    'flight_number': 'ET686',\n",
       "    'departure': {'airport': 'Addis Ababa Bole International Airport',\n",
       "     'iata_code': 'ADD',\n",
       "     'date': '2024-07-11',\n",
       "     'time': '22:55:00 UTC',\n",
       "     'full_datetime': '2024-07-11T22:55:00.000Z'},\n",
       "    'arrival': {'airport': 'Indira Gandhi International Airport',\n",
       "     'iata_code': 'DEL',\n",
       "     'date': '2024-07-12',\n",
       "     'time': '08:10:00 UTC',\n",
       "     'full_datetime': '2024-07-12T08:10:00.000Z'}}],\n",
       "  'passenger_details': {'total_passenger_count': 3,\n",
       "   'passengers': [{'full_name': 'Surendra Singh',\n",
       "     'seat_number': '21A',\n",
       "     'baggage': {'cabin': '7kg', 'check_in': '23kg'}},\n",
       "    {'full_name': 'Narinder Kaur',\n",
       "     'seat_number': '21B',\n",
       "     'baggage': {'cabin': '7kg', 'check_in': '23kg'}},\n",
       "    {'full_name': 'Samik Singh',\n",
       "     'seat_number': '21C',\n",
       "     'baggage': {'cabin': '7kg', 'check_in': '23kg'}}]},\n",
       "  'baggage_summary': {'total_cabin_baggage': '21kg',\n",
       "   'total_check_in_baggage': '69kg'},\n",
       "  'embedded_text_descriptions': {'route_description': 'Cape Town International Airport (CPT) to Indira Gandhi International Airport (DEL) via Addis Ababa Bole International Airport (ADD)',\n",
       "   'flight_details': 'Flight numbers ET846 and ET686, Economy class, from CPT to DEL on July 11, 2024',\n",
       "   'passenger_summary': 'Passengers: Surendra Singh, Narinder Kaur, Samik Singh, traveling with 7kg cabin baggage and 23kg check-in baggage each.'}}}"
      ]
     },
     "execution_count": 3,
     "metadata": {},
     "output_type": "execute_result"
    }
   ],
   "source": [
    "# Load the data\n",
    "file_path = Path(\"Journey.json\")\n",
    "json_data = json.loads(file_path.read_text())\n",
    "\n",
    "json_data"
   ]
  },
  {
   "cell_type": "markdown",
   "metadata": {},
   "source": [
    "### Loader"
   ]
  },
  {
   "cell_type": "code",
   "execution_count": 4,
   "metadata": {},
   "outputs": [
    {
     "data": {
      "text/plain": [
       "Document(metadata={'source': 'C:\\\\Users\\\\tarak\\\\Downloads\\\\Assignments\\\\LangChain Chatbot\\\\Journey_details.json', 'seq_num': 1}, page_content='{\"ticket_id\": 3183, \"pnr\": \"HZAVJJ\", \"class\": \"ECONOMY\", \"source\": \"Cape Town International Airport (CPT)\", \"destination\": \"Indira Gandhi International Airport (DEL)\", \"departure_date\": \"2024-07-11T14:35:00.000Z\", \"arrival_date\": \"2024-07-12T08:10:00.000Z\", \"layover_duration\": \"55m\", \"segments\": [{\"flight_number\": \"ET846\", \"departure\": {\"airport\": \"Cape Town International Airport\", \"iata\": \"CPT\", \"date\": \"2024-07-11T14:35:00.000Z\"}, \"arrival\": {\"airport\": \"Addis Ababa Bole International Airport\", \"iata\": \"ADD\", \"date\": \"2024-07-11T22:00:00.000Z\"}, \"passengers\": [{\"first_name\": \"surendra\", \"last_name\": \"singh\", \"seat_number\": \"21a\", \"cabin_baggage\": \"7kg\", \"check_in_baggage\": \"23kg\"}, {\"first_name\": \"narinder\", \"last_name\": \"kaur\", \"seat_number\": \"21b\", \"cabin_baggage\": \"7kg\", \"check_in_baggage\": \"23kg\"}, {\"first_name\": \"samik\", \"last_name\": \"singh\", \"seat_number\": \"21c\", \"cabin_baggage\": \"7kg\", \"check_in_baggage\": \"23kg\"}]}, {\"flight_number\": \"ET686\", \"departure\": {\"airport\": \"Addis Ababa Bole International Airport\", \"iata\": \"ADD\", \"date\": \"2024-07-11T22:55:00.000Z\"}, \"arrival\": {\"airport\": \"Indira Gandhi International Airport\", \"iata\": \"DEL\", \"date\": \"2024-07-12T08:10:00.000Z\"}, \"passengers\": [{\"first_name\": \"surendra\", \"last_name\": \"singh\", \"seat_number\": \"21a\", \"cabin_baggage\": \"7kg\", \"check_in_baggage\": \"23kg\"}, {\"first_name\": \"narinder\", \"last_name\": \"kaur\", \"seat_number\": \"21b\", \"cabin_baggage\": \"7kg\", \"check_in_baggage\": \"23kg\"}, {\"first_name\": \"samik\", \"last_name\": \"singh\", \"seat_number\": \"21c\", \"cabin_baggage\": \"7kg\", \"check_in_baggage\": \"23kg\"}]}]}')"
      ]
     },
     "execution_count": 4,
     "metadata": {},
     "output_type": "execute_result"
    }
   ],
   "source": [
    "# Assuming loader is already defined and initialized\n",
    "docs = loader.load()\n",
    "docs[0]"
   ]
  },
  {
   "cell_type": "code",
   "execution_count": 5,
   "metadata": {},
   "outputs": [
    {
     "data": {
      "text/plain": [
       "list"
      ]
     },
     "execution_count": 5,
     "metadata": {},
     "output_type": "execute_result"
    }
   ],
   "source": [
    "type(docs)"
   ]
  },
  {
   "cell_type": "code",
   "execution_count": 6,
   "metadata": {},
   "outputs": [
    {
     "name": "stdout",
     "output_type": "stream",
     "text": [
      "{'source': 'C:\\\\Users\\\\tarak\\\\Downloads\\\\Assignments\\\\LangChain Chatbot\\\\Journey_details.json', 'seq_num': 1}\n"
     ]
    }
   ],
   "source": [
    "print(docs[0].metadata)"
   ]
  },
  {
   "cell_type": "code",
   "execution_count": 7,
   "metadata": {},
   "outputs": [
    {
     "name": "stdout",
     "output_type": "stream",
     "text": [
      "{\"ticket_id\": 3183, \"pnr\": \"HZAVJJ\", \"class\": \"ECONOMY\", \"source\": \"Cape Town International Airport (CPT)\", \"destination\": \"Indira Gandhi International Airport (DEL)\", \"departure_date\": \"2024-07-11T14:35:00.000Z\", \"arrival_date\": \"2024-07-12T08:10:00.000Z\", \"layover_duration\": \"55m\", \"segments\": [{\"flight_number\": \"ET846\", \"departure\": {\"airport\": \"Cape Town International Airport\", \"iata\": \"CPT\", \"date\": \"2024-07-11T14:35:00.000Z\"}, \"arrival\": {\"airport\": \"Addis Ababa Bole International Airport\", \"iata\": \"ADD\", \"date\": \"2024-07-11T22:00:00.000Z\"}, \"passengers\": [{\"first_name\": \"surendra\", \"last_name\": \"singh\", \"seat_number\": \"21a\", \"cabin_baggage\": \"7kg\", \"check_in_baggage\": \"23kg\"}, {\"first_name\": \"narinder\", \"last_name\": \"kaur\", \"seat_number\": \"21b\", \"cabin_baggage\": \"7kg\", \"check_in_baggage\": \"23kg\"}, {\"first_name\": \"samik\", \"last_name\": \"singh\", \"seat_number\": \"21c\", \"cabin_baggage\": \"7kg\", \"check_in_baggage\": \"23kg\"}]}, {\"flight_number\": \"ET686\", \"departure\": {\"airport\": \"Addis Ababa Bole International Airport\", \"iata\": \"ADD\", \"date\": \"2024-07-11T22:55:00.000Z\"}, \"arrival\": {\"airport\": \"Indira Gandhi International Airport\", \"iata\": \"DEL\", \"date\": \"2024-07-12T08:10:00.000Z\"}, \"passengers\": [{\"first_name\": \"surendra\", \"last_name\": \"singh\", \"seat_number\": \"21a\", \"cabin_baggage\": \"7kg\", \"check_in_baggage\": \"23kg\"}, {\"first_name\": \"narinder\", \"last_name\": \"kaur\", \"seat_number\": \"21b\", \"cabin_baggage\": \"7kg\", \"check_in_baggage\": \"23kg\"}, {\"first_name\": \"samik\", \"last_name\": \"singh\", \"seat_number\": \"21c\", \"cabin_baggage\": \"7kg\", \"check_in_baggage\": \"23kg\"}]}]}\n"
     ]
    }
   ],
   "source": [
    "print(docs[0].page_content)"
   ]
  },
  {
   "cell_type": "code",
   "execution_count": 8,
   "metadata": {},
   "outputs": [
    {
     "data": {
      "text/plain": [
       "str"
      ]
     },
     "execution_count": 8,
     "metadata": {},
     "output_type": "execute_result"
    }
   ],
   "source": [
    "type(docs[0].page_content)"
   ]
  },
  {
   "cell_type": "markdown",
   "metadata": {},
   "source": [
    "### Recursive JSON Splitter"
   ]
  },
  {
   "cell_type": "code",
   "execution_count": 9,
   "metadata": {},
   "outputs": [
    {
     "data": {
      "text/plain": [
       "<langchain_text_splitters.json.RecursiveJsonSplitter at 0x2970927fe10>"
      ]
     },
     "execution_count": 9,
     "metadata": {},
     "output_type": "execute_result"
    }
   ],
   "source": [
    "from langchain_text_splitters import RecursiveJsonSplitter\n",
    "\n",
    "splitter = RecursiveJsonSplitter(max_chunk_size=100)\n",
    "splitter"
   ]
  },
  {
   "cell_type": "code",
   "execution_count": 10,
   "metadata": {},
   "outputs": [],
   "source": [
    "json_chunks = splitter.split_json(json_data=json_data)"
   ]
  },
  {
   "cell_type": "code",
   "execution_count": 11,
   "metadata": {},
   "outputs": [
    {
     "data": {
      "text/plain": [
       "23"
      ]
     },
     "execution_count": 11,
     "metadata": {},
     "output_type": "execute_result"
    }
   ],
   "source": [
    "len(json_chunks)"
   ]
  },
  {
   "cell_type": "code",
   "execution_count": 12,
   "metadata": {},
   "outputs": [
    {
     "name": "stdout",
     "output_type": "stream",
     "text": [
      "page_content='{\"ticket_info\": {\"ticket_id\": \"ticket_227_3183\", \"namespace\": \"flight_bookings\", \"pnr\": \"HZAVJJ\"}}'\n",
      "page_content='{\"ticket_info\": {\"class\": \"Economy\", \"user_id\": 227}}'\n",
      "page_content='{\"ticket_info\": {\"flight_route\": {\"source_airport\": {\"name\": \"Cape Town International Airport\"}}}}'\n"
     ]
    }
   ],
   "source": [
    "docs = splitter.create_documents(texts=[json_data],convert_lists=True)\n",
    "\n",
    "for doc in docs[:3]:\n",
    "    print(doc)"
   ]
  },
  {
   "cell_type": "code",
   "execution_count": 13,
   "metadata": {},
   "outputs": [
    {
     "data": {
      "text/plain": [
       "58"
      ]
     },
     "execution_count": 13,
     "metadata": {},
     "output_type": "execute_result"
    }
   ],
   "source": [
    "len(docs)"
   ]
  },
  {
   "cell_type": "markdown",
   "metadata": {},
   "source": [
    "### Hugging Face Embeddings"
   ]
  },
  {
   "cell_type": "code",
   "execution_count": 14,
   "metadata": {},
   "outputs": [],
   "source": [
    "from langchain_huggingface.embeddings import HuggingFaceEmbeddings\n",
    "embeddings = HuggingFaceEmbeddings(model_name=\"sentence-transformers/all-mpnet-base-v2\")"
   ]
  },
  {
   "cell_type": "code",
   "execution_count": 15,
   "metadata": {},
   "outputs": [
    {
     "data": {
      "text/plain": [
       "[-0.04895174875855446, -0.039861924946308136, -0.021562796086072922]"
      ]
     },
     "execution_count": 15,
     "metadata": {},
     "output_type": "execute_result"
    }
   ],
   "source": [
    "text = \"This is a test document.\"\n",
    "query_result = embeddings.embed_query(text)\n",
    "query_result[:3]"
   ]
  },
  {
   "cell_type": "code",
   "execution_count": 16,
   "metadata": {},
   "outputs": [],
   "source": [
    "doc_result = embeddings.embed_documents([text])"
   ]
  },
  {
   "cell_type": "markdown",
   "metadata": {},
   "source": [
    "### Hugging Face Inference API"
   ]
  },
  {
   "cell_type": "code",
   "execution_count": 17,
   "metadata": {},
   "outputs": [],
   "source": [
    "import getpass\n",
    "\n",
    "inference_api_key = getpass.getpass(\"Enter your HF Inference API Key:\\n\\n\")"
   ]
  },
  {
   "cell_type": "code",
   "execution_count": 18,
   "metadata": {},
   "outputs": [
    {
     "data": {
      "text/plain": [
       "[-0.03833853453397751, 0.12346471101045609, -0.028642931953072548]"
      ]
     },
     "execution_count": 18,
     "metadata": {},
     "output_type": "execute_result"
    }
   ],
   "source": [
    "from langchain_community.embeddings import HuggingFaceInferenceAPIEmbeddings\n",
    "\n",
    "embeddings = HuggingFaceInferenceAPIEmbeddings(\n",
    "    api_key=inference_api_key, model_name=\"sentence-transformers/all-MiniLM-l6-v2\"\n",
    ")\n",
    "text_1 = \"This is a test document.\"\n",
    "query_result = embeddings.embed_query(text_1)\n",
    "query_result[:3]"
   ]
  },
  {
   "cell_type": "markdown",
   "metadata": {},
   "source": [
    "### Hugging Face Hub"
   ]
  },
  {
   "cell_type": "code",
   "execution_count": 19,
   "metadata": {},
   "outputs": [
    {
     "name": "stdout",
     "output_type": "stream",
     "text": [
      "Requirement already satisfied: huggingface_hub in c:\\users\\tarak\\downloads\\assignments\\langchain chatbot\\venv\\lib\\site-packages (0.26.2)\n",
      "Requirement already satisfied: filelock in c:\\users\\tarak\\downloads\\assignments\\langchain chatbot\\venv\\lib\\site-packages (from huggingface_hub) (3.16.1)\n",
      "Requirement already satisfied: fsspec>=2023.5.0 in c:\\users\\tarak\\downloads\\assignments\\langchain chatbot\\venv\\lib\\site-packages (from huggingface_hub) (2024.10.0)\n",
      "Requirement already satisfied: packaging>=20.9 in c:\\users\\tarak\\downloads\\assignments\\langchain chatbot\\venv\\lib\\site-packages (from huggingface_hub) (24.1)\n",
      "Requirement already satisfied: pyyaml>=5.1 in c:\\users\\tarak\\downloads\\assignments\\langchain chatbot\\venv\\lib\\site-packages (from huggingface_hub) (6.0.2)\n",
      "Requirement already satisfied: requests in c:\\users\\tarak\\downloads\\assignments\\langchain chatbot\\venv\\lib\\site-packages (from huggingface_hub) (2.32.3)\n",
      "Requirement already satisfied: tqdm>=4.42.1 in c:\\users\\tarak\\downloads\\assignments\\langchain chatbot\\venv\\lib\\site-packages (from huggingface_hub) (4.66.6)\n",
      "Requirement already satisfied: typing-extensions>=3.7.4.3 in c:\\users\\tarak\\downloads\\assignments\\langchain chatbot\\venv\\lib\\site-packages (from huggingface_hub) (4.12.2)\n",
      "Requirement already satisfied: colorama in c:\\users\\tarak\\downloads\\assignments\\langchain chatbot\\venv\\lib\\site-packages (from tqdm>=4.42.1->huggingface_hub) (0.4.6)\n",
      "Requirement already satisfied: charset-normalizer<4,>=2 in c:\\users\\tarak\\downloads\\assignments\\langchain chatbot\\venv\\lib\\site-packages (from requests->huggingface_hub) (3.4.0)\n",
      "Requirement already satisfied: idna<4,>=2.5 in c:\\users\\tarak\\downloads\\assignments\\langchain chatbot\\venv\\lib\\site-packages (from requests->huggingface_hub) (3.10)\n",
      "Requirement already satisfied: urllib3<3,>=1.21.1 in c:\\users\\tarak\\downloads\\assignments\\langchain chatbot\\venv\\lib\\site-packages (from requests->huggingface_hub) (2.2.3)\n",
      "Requirement already satisfied: certifi>=2017.4.17 in c:\\users\\tarak\\downloads\\assignments\\langchain chatbot\\venv\\lib\\site-packages (from requests->huggingface_hub) (2024.8.30)\n"
     ]
    }
   ],
   "source": [
    "! pip install huggingface_hub"
   ]
  },
  {
   "cell_type": "code",
   "execution_count": 20,
   "metadata": {},
   "outputs": [
    {
     "data": {
      "text/plain": [
       "[-0.048951830714941025, -0.03986202925443649, -0.021562786772847176]"
      ]
     },
     "execution_count": 20,
     "metadata": {},
     "output_type": "execute_result"
    }
   ],
   "source": [
    "from langchain_huggingface.embeddings import HuggingFaceEndpointEmbeddings\n",
    "embeddings = HuggingFaceEndpointEmbeddings()\n",
    "text_1 = \"This is a test document.\"\n",
    "query_result = embeddings.embed_query(text_1)\n",
    "query_result[:3]"
   ]
  },
  {
   "cell_type": "markdown",
   "metadata": {},
   "source": [
    "### Pinecone"
   ]
  },
  {
   "cell_type": "code",
   "execution_count": 21,
   "metadata": {},
   "outputs": [
    {
     "name": "stdout",
     "output_type": "stream",
     "text": [
      "Note: you may need to restart the kernel to use updated packages.\n"
     ]
    }
   ],
   "source": [
    "%pip install -qU langchain-pinecone pinecone-notebooks"
   ]
  },
  {
   "cell_type": "code",
   "execution_count": 22,
   "metadata": {},
   "outputs": [],
   "source": [
    "import getpass\n",
    "import os\n",
    "import time\n",
    "\n",
    "from pinecone import Pinecone, ServerlessSpec\n",
    "\n",
    "if not os.getenv(\"PINECONE_API_KEY\"):\n",
    "    os.environ[\"PINECONE_API_KEY\"] = getpass.getpass(\"Enter your Pinecone API key: \")\n",
    "\n",
    "pinecone_api_key = os.environ.get(\"PINECONE_API_KEY\")\n",
    "\n",
    "pc = Pinecone(api_key=pinecone_api_key)"
   ]
  },
  {
   "cell_type": "code",
   "execution_count": 23,
   "metadata": {},
   "outputs": [],
   "source": [
    "import time\n",
    "\n",
    "index_name = \"langchain-chatbot\"  # change if desired\n",
    "\n",
    "existing_indexes = [index_info[\"name\"] for index_info in pc.list_indexes()]\n",
    "\n",
    "if index_name not in existing_indexes:\n",
    "    pc.create_index(\n",
    "        name=index_name,\n",
    "        dimension=768,\n",
    "        metric=\"cosine\",\n",
    "        spec=ServerlessSpec(cloud=\"aws\", region=\"us-east-1\"),\n",
    "    )\n",
    "    while not pc.describe_index(index_name).status[\"ready\"]:\n",
    "        time.sleep(1)\n",
    "\n",
    "index = pc.Index(index_name)"
   ]
  },
  {
   "cell_type": "code",
   "execution_count": 24,
   "metadata": {},
   "outputs": [],
   "source": [
    "from langchain_pinecone import PineconeVectorStore\n",
    "\n",
    "vector_store = PineconeVectorStore(index=index, embedding=embeddings)"
   ]
  },
  {
   "cell_type": "code",
   "execution_count": 25,
   "metadata": {},
   "outputs": [
    {
     "name": "stdout",
     "output_type": "stream",
     "text": [
      "Index after upsert:\n",
      "{'dimension': 768,\n",
      " 'index_fullness': 0.0,\n",
      " 'namespaces': {'langchain-chatbot': {'vector_count': 58}},\n",
      " 'total_vector_count': 58}\n",
      "\n",
      "\n"
     ]
    }
   ],
   "source": [
    "from langchain_pinecone import PineconeVectorStore\n",
    "\n",
    "namespace = \"langchain-chatbot\" \n",
    "\n",
    "docsearch = PineconeVectorStore.from_documents(\n",
    "    documents=docs,\n",
    "    index_name=index_name,\n",
    "    embedding=embeddings,\n",
    "    namespace=namespace\n",
    ")\n",
    "\n",
    "time.sleep(5)\n",
    "\n",
    "# See how many vectors have been upserted\n",
    "print(\"Index after upsert:\")\n",
    "print(pc.Index(index_name).describe_index_stats())\n",
    "print(\"\\n\")\n",
    "time.sleep(2)"
   ]
  },
  {
   "cell_type": "code",
   "execution_count": 26,
   "metadata": {},
   "outputs": [],
   "source": [
    "index = pc.Index(index_name)\n",
    "namespace = \"langchain-chatbot\"\n",
    "\n",
    "for ids in index.list(namespace=namespace):\n",
    "    query = index.query(\n",
    "        id=ids[0], \n",
    "        namespace=namespace, \n",
    "        top_k=1,\n",
    "        include_values=True,\n",
    "        include_metadata=True\n",
    "    )\n",
    "    # print(query)\n",
    "    # print(\"\\n\")"
   ]
  },
  {
   "cell_type": "code",
   "execution_count": 27,
   "metadata": {},
   "outputs": [
    {
     "data": {
      "text/plain": [
       "['37a8ea01-3234-4265-baa4-4e03b920f595',\n",
       " 'f456249f-e4a6-4afa-9177-d81357c01191',\n",
       " '824def2e-ae18-4219-a64b-8a4fa37652fc',\n",
       " '7293683b-54a4-474f-9889-697fc57d4dd1',\n",
       " 'e9747259-207f-4e00-a663-da05aad5abb2',\n",
       " 'bcae3a69-3596-4dc0-9c82-cec4316b5661',\n",
       " '3123786e-7cb7-4d7b-a66a-671e5c486a35',\n",
       " 'd9d83c2d-0cae-4137-880c-f8903918d40c',\n",
       " '160c1c36-e920-4e86-a72f-1659070a9699',\n",
       " 'b24669de-a901-4ee5-969b-6b8499a0a52d',\n",
       " 'e325c394-f1e8-4518-8c46-a743d1b62b1e',\n",
       " '3c9f3ba3-30ce-402d-8f91-28d51d800f5f',\n",
       " '3d88a097-3793-4936-88d3-d6ea46aa8c56',\n",
       " '119b8129-c12b-4700-b215-dd2a9c0a772f',\n",
       " '96d451c3-dd5a-4b2c-bafa-1c5b195e18c1',\n",
       " 'ce783f33-1004-4f73-b74f-34db3ef96864',\n",
       " '60ce9e9f-9f56-4019-a8bb-d98a3429f76f',\n",
       " 'ee16953b-ecbf-4655-9f77-cfb0223decd8',\n",
       " 'd177058c-08be-4c27-8f6d-7cc544e42e9e',\n",
       " '62cecf5a-b02b-434f-ab15-c04181fa561c',\n",
       " '45eb09e9-749c-4a89-abd3-8cb2bbbafbba',\n",
       " '90f4b39e-8d30-4fdb-b949-44a28b860307',\n",
       " '51289e95-0018-4686-8f8b-d52d7750733f',\n",
       " '79585666-6d5a-4b1f-aa8b-d312ec5eee2e',\n",
       " 'a24fedae-0932-4b64-8727-7d4dfc2cd5a8',\n",
       " '8e97435d-fd06-4bfc-8f3b-174c7b2922ef',\n",
       " 'cdb45f79-367d-45da-b4b7-90e1d03db38e',\n",
       " '6edde046-baa9-4d41-bce5-5b860def751e',\n",
       " '74b35bcd-7eb9-49f7-8248-4fdd2940fdb1',\n",
       " 'd8c85c39-e6a0-4522-85bd-f8e3f04fd3ce',\n",
       " '3798d6ba-0ae3-4647-a637-0329a89bb7c6',\n",
       " 'c7809c85-e76d-4784-b0a5-5765bf85601b',\n",
       " 'db2078e3-28d0-481b-b1af-16dabb9c33b5',\n",
       " 'cc60fbb8-63db-4222-8411-d2644a63f096',\n",
       " '94748d85-5659-4548-bffc-0476d498bf84',\n",
       " '69488cca-135a-4485-be65-36bad1642eaf',\n",
       " 'cb0d2b21-8e12-4ecf-a787-41bbe5623bfc',\n",
       " 'd43003c8-e32e-44e2-8479-885331130ba0',\n",
       " '4b40515f-c288-40ae-8141-68cf65ed9255',\n",
       " 'fc0af3aa-e47e-4283-bde1-85bd31c7f257',\n",
       " '341a3d2b-b7d4-4459-aba1-adeb599abcf9',\n",
       " '1cdbb92e-9e5d-4ee7-adf3-75b326f2a194',\n",
       " '1ded5bdb-3ee5-4060-b300-b700d8cb028f',\n",
       " '1af180f2-0207-43f0-a622-00027c3a20e0',\n",
       " 'c566aa19-4be3-4760-9262-56713bf4c188',\n",
       " 'd0a02eb4-d07c-4642-b16e-4b3e00b5a8ac',\n",
       " '9b0476b7-8ba0-45bf-990b-a5d8d24731e8',\n",
       " '9f529fe8-e068-4e1c-9866-547b1c1271e7',\n",
       " '1a49cf9f-6c24-4eb1-8e7e-1947aa2601ab',\n",
       " '7c89c823-b8e2-47ad-a69e-0f2ceef8fe27',\n",
       " '85623150-fe4f-450b-9f63-6da046ed980f',\n",
       " 'ce808064-11e0-472c-bd97-6f72d8b9e139',\n",
       " '01444c9b-9696-4579-8f3d-847478a92b7a',\n",
       " '0e0a8afa-f3c7-47d8-b2b1-d15ab9d0f1f5',\n",
       " '9a892487-0fb9-4666-922b-161c56b0c28d',\n",
       " 'd62d40bb-e51b-49c3-8f09-959abff35497',\n",
       " 'ff08f2e2-e486-41d7-b329-44eb840b2657',\n",
       " '4d8d8ba2-3c14-4d8c-8f5c-1e7222ea571c']"
      ]
     },
     "execution_count": 27,
     "metadata": {},
     "output_type": "execute_result"
    }
   ],
   "source": [
    "from uuid import uuid4\n",
    "\n",
    "from langchain_core.documents import Document\n",
    "uuids = [str(uuid4()) for _ in range(len(docs))]\n",
    "\n",
    "vector_store.add_documents(documents=docs, ids=uuids)"
   ]
  },
  {
   "cell_type": "markdown",
   "metadata": {},
   "source": [
    "### Query vector store"
   ]
  },
  {
   "cell_type": "markdown",
   "metadata": {},
   "source": [
    "##### Similarity search"
   ]
  },
  {
   "cell_type": "code",
   "execution_count": 28,
   "metadata": {},
   "outputs": [],
   "source": [
    "results = vector_store.similarity_search(\n",
    "    \"What time is my flight from Cape Town to Addis Ababa, and what’s the arrival time?\",\n",
    "    k=2,\n",
    ")\n",
    "for res in results:\n",
    "    print(f\"* {res.page_content}\")"
   ]
  },
  {
   "cell_type": "markdown",
   "metadata": {},
   "source": [
    "##### Similarity search with score"
   ]
  },
  {
   "cell_type": "code",
   "execution_count": 29,
   "metadata": {},
   "outputs": [
    {
     "name": "stdout",
     "output_type": "stream",
     "text": [
      "* [SIM=0.547294] {\"ticket_info\": {\"flight_segments\": {\"0\": {\"departure\": {\"airport\": \"Cape Town International Airport\"}}}}}\n"
     ]
    }
   ],
   "source": [
    "results = vector_store.similarity_search_with_score(\n",
    "    \"What time is my flight from Cape Town to Addis Ababa, and what’s the arrival time?\", k=1, \n",
    ")\n",
    "for res, score in results:\n",
    "    print(f\"* [SIM={score:3f}] {res.page_content}\")"
   ]
  },
  {
   "cell_type": "markdown",
   "metadata": {},
   "source": [
    "### Query by turning into retriever"
   ]
  },
  {
   "cell_type": "code",
   "execution_count": 30,
   "metadata": {},
   "outputs": [
    {
     "data": {
      "text/plain": [
       "[Document(id='62cecf5a-b02b-434f-ab15-c04181fa561c', metadata={}, page_content='{\"ticket_info\": {\"flight_segments\": {\"0\": {\"departure\": {\"airport\": \"Cape Town International Airport\"}}}}}'),\n",
       " Document(id='a24fedae-0932-4b64-8727-7d4dfc2cd5a8', metadata={}, page_content='{\"ticket_info\": {\"flight_segments\": {\"0\": {\"arrival\": {\"airport\": \"Addis Ababa Bole International Airport\"}}}}}'),\n",
       " Document(id='d62d40bb-e51b-49c3-8f09-959abff35497', metadata={}, page_content='{\"ticket_info\": {\"embedded_text_descriptions\": {\"route_description\": \"Cape Town International Airport (CPT) to Indira Gandhi International Airport (DEL) via Addis Ababa Bole International Airport (ADD)\"}}}')]"
      ]
     },
     "execution_count": 30,
     "metadata": {},
     "output_type": "execute_result"
    }
   ],
   "source": [
    "retriever = vector_store.as_retriever(\n",
    "    search_type=\"similarity_score_threshold\",\n",
    "    search_kwargs={\"k\": 3, \"score_threshold\": 0.5},\n",
    ")\n",
    "retriever.invoke(\"What time is my flight from Cape Town to Addis Ababa, and what’s the arrival time?\")"
   ]
  },
  {
   "cell_type": "code",
   "execution_count": 31,
   "metadata": {},
   "outputs": [],
   "source": [
    "retrieved_docs = retriever.invoke(\"What time is my flight from Cape Town to Addis Ababa, and what’s the arrival time?\")"
   ]
  },
  {
   "cell_type": "code",
   "execution_count": 32,
   "metadata": {},
   "outputs": [
    {
     "data": {
      "text/plain": [
       "3"
      ]
     },
     "execution_count": 32,
     "metadata": {},
     "output_type": "execute_result"
    }
   ],
   "source": [
    "len(retrieved_docs)"
   ]
  },
  {
   "cell_type": "code",
   "execution_count": 33,
   "metadata": {},
   "outputs": [
    {
     "name": "stdout",
     "output_type": "stream",
     "text": [
      "{\"ticket_info\": {\"flight_segments\": {\"0\": {\"departure\": {\"airport\": \"Cape Town International Airport\"}}}}}\n"
     ]
    }
   ],
   "source": [
    "print(retrieved_docs[0].page_content)"
   ]
  },
  {
   "cell_type": "code",
   "execution_count": 34,
   "metadata": {},
   "outputs": [
    {
     "name": "stdout",
     "output_type": "stream",
     "text": [
      "{\"ticket_info\": {\"flight_segments\": {\"0\": {\"arrival\": {\"airport\": \"Addis Ababa Bole International Airport\"}}}}}\n"
     ]
    }
   ],
   "source": [
    "print(retrieved_docs[1].page_content)"
   ]
  },
  {
   "cell_type": "markdown",
   "metadata": {},
   "source": [
    "### LLM"
   ]
  },
  {
   "cell_type": "code",
   "execution_count": 35,
   "metadata": {},
   "outputs": [],
   "source": [
    "import getpass\n",
    "import os\n",
    "\n",
    "os.environ[\"GROQ_API_KEY\"] = getpass.getpass()\n",
    "\n",
    "from langchain_groq import ChatGroq\n",
    "\n",
    "llm = ChatGroq(model=\"llama3-8b-8192\")"
   ]
  },
  {
   "cell_type": "code",
   "execution_count": 36,
   "metadata": {},
   "outputs": [
    {
     "data": {
      "text/plain": [
       "[HumanMessage(content=\"You are an assistant for question-answering tasks. Use the following pieces of retrieved context to answer the question. If you don't know the answer, just say that you don't know. Use three sentences maximum and keep the answer concise.\\nQuestion: filler question \\nContext: filler context \\nAnswer:\", additional_kwargs={}, response_metadata={})]"
      ]
     },
     "execution_count": 36,
     "metadata": {},
     "output_type": "execute_result"
    }
   ],
   "source": [
    "from langchain import hub\n",
    "\n",
    "prompt = hub.pull(\"rlm/rag-prompt\")\n",
    "\n",
    "example_messages = prompt.invoke(\n",
    "    {\"context\": \"filler context\", \"question\": \"filler question\"}\n",
    ").to_messages()\n",
    "\n",
    "example_messages"
   ]
  },
  {
   "cell_type": "code",
   "execution_count": 37,
   "metadata": {},
   "outputs": [
    {
     "name": "stdout",
     "output_type": "stream",
     "text": [
      "You are an assistant for question-answering tasks. Use the following pieces of retrieved context to answer the question. If you don't know the answer, just say that you don't know. Use three sentences maximum and keep the answer concise.\n",
      "Question: filler question \n",
      "Context: filler context \n",
      "Answer:\n"
     ]
    }
   ],
   "source": [
    "print(example_messages[0].content)"
   ]
  },
  {
   "cell_type": "markdown",
   "metadata": {},
   "source": [
    "### Runnables"
   ]
  },
  {
   "cell_type": "code",
   "execution_count": 38,
   "metadata": {},
   "outputs": [
    {
     "name": "stdout",
     "output_type": "stream",
     "text": [
      "According to the ticket information, your layover to the ticket information, your layover time is 55 minutes. Your first flight arrives on July 12, 2024, at 08:10:00 UTC, and your next flight departs from the same destination at 22:00:00 UTC, which means you have a layover of 55 minutes."
     ]
    }
   ],
   "source": [
    "from langchain_core.output_parsers import StrOutputParser\n",
    "from langchain_core.runnables import RunnablePassthrough\n",
    "\n",
    "\n",
    "def format_docs(docs):\n",
    "    return \"\\n\\n\".join(doc.page_content for doc in docs)\n",
    "\n",
    "\n",
    "rag_chain = (\n",
    "    {\"context\": retriever | format_docs, \"question\": RunnablePassthrough()}\n",
    "    | prompt\n",
    "    | llm\n",
    "    | StrOutputParser()\n",
    ")\n",
    "\n",
    "for chunk in rag_chain.stream(\"Can you tell me about the layover time for my journey?\"):\n",
    "    print(chunk, end=\"\", flush=True)"
   ]
  },
  {
   "cell_type": "markdown",
   "metadata": {},
   "source": [
    "### Built-in-chains"
   ]
  },
  {
   "cell_type": "code",
   "execution_count": 39,
   "metadata": {},
   "outputs": [
    {
     "name": "stdout",
     "output_type": "stream",
     "text": [
      "Based on the provided information, each passenger has a total check-in baggage allowance of 23kg.\n"
     ]
    }
   ],
   "source": [
    "from langchain.chains import create_retrieval_chain\n",
    "from langchain.chains.combine_documents import create_stuff_documents_chain\n",
    "from langchain_core.prompts import ChatPromptTemplate\n",
    "\n",
    "system_prompt = (\n",
    "    \"You are a travel assistant specialized in providing concise and accurate answers about flight itineraries. \"\n",
    "    \"Use the following context to answer questions about flight segments, layovers, seat details, baggage allowances, and airport information. \"\n",
    "    \"Respond to each question based on the retrieved context. If the answer isn’t available in the data, respond with “I’m not sure” or “That information is not available.” \"\n",
    "    \"Keep answers to a maximum of three sentences and ensure they are clear and direct.\"\n",
    "    \"\\n\\n\"\n",
    "    \"{context}\"\n",
    ")\n",
    "\n",
    "prompt = ChatPromptTemplate.from_messages(\n",
    "    [\n",
    "        (\"system\", system_prompt),\n",
    "        (\"human\", \"{input}\"),\n",
    "    ]\n",
    ")\n",
    "\n",
    "\n",
    "question_answer_chain = create_stuff_documents_chain(llm, prompt)\n",
    "rag_chain = create_retrieval_chain(retriever, question_answer_chain)\n",
    "\n",
    "response = rag_chain.invoke({\"input\": \"Do I have any checked baggage allowance for my flights?\"})\n",
    "print(response[\"answer\"])"
   ]
  },
  {
   "cell_type": "markdown",
   "metadata": {},
   "source": [
    "##### Returning sources"
   ]
  },
  {
   "cell_type": "code",
   "execution_count": 40,
   "metadata": {},
   "outputs": [
    {
     "name": "stdout",
     "output_type": "stream",
     "text": [
      "page_content='{\"ticket_info\": {\"baggage_summary\": {\"total_check_in_baggage\": \"69kg\"}}}'\n",
      "\n",
      "page_content='{\"ticket_info\": {\"baggage_summary\": {\"total_cabin_baggage\": \"21kg\"}}}'\n",
      "\n",
      "page_content='{\"ticket_info\": {\"embedded_text_descriptions\": {\"passenger_summary\": \"Passengers: Surendra Singh, Narinder Kaur, Samik Singh, traveling with 7kg cabin baggage and 23kg check-in baggage each.\"}}}'\n",
      "\n"
     ]
    }
   ],
   "source": [
    "for document in response[\"context\"]:\n",
    "    print(document)\n",
    "    print()"
   ]
  },
  {
   "cell_type": "markdown",
   "metadata": {},
   "source": [
    "### Customizing the prompt"
   ]
  },
  {
   "cell_type": "code",
   "execution_count": 42,
   "metadata": {},
   "outputs": [
    {
     "data": {
      "text/plain": [
       "'According to the flight itinerary, your layover is in Addis Ababa, Ethiopia, and it will last approximately 55 minutes.'"
      ]
     },
     "execution_count": 42,
     "metadata": {},
     "output_type": "execute_result"
    }
   ],
   "source": [
    "from langchain_core.prompts import PromptTemplate\n",
    "\n",
    "template = \"\"\"\"You are a travel assistant specialized in providing concise and accurate answers about flight itineraries. \"\n",
    "    \"Use the following context to answer questions about flight segments, layovers, seat details, baggage allowances, and airport information. \"\n",
    "    \"Respond to each question based on the retrieved context. If the answer isn’t available in the data, respond with “I’m not sure” or “That information is not available.” \"\n",
    "    \"Keep answers to a maximum of three sentences and ensure they are clear and direct.\"\n",
    "    \"\\n\\n\"\n",
    "    \n",
    "\n",
    "{context}\n",
    "\n",
    "Question: {question}\n",
    "\n",
    "Helpful Answer:\"\"\"\n",
    "custom_rag_prompt = PromptTemplate.from_template(template)\n",
    "\n",
    "rag_chain = (\n",
    "    {\"context\": retriever | format_docs, \"question\": RunnablePassthrough()}\n",
    "    | custom_rag_prompt\n",
    "    | llm\n",
    "    | StrOutputParser()\n",
    ")\n",
    "\n",
    "rag_chain.invoke(\"Where is my layover?\")"
   ]
  },
  {
   "cell_type": "code",
   "execution_count": 43,
   "metadata": {},
   "outputs": [
    {
     "data": {
      "text/plain": [
       "'Based on the provided context, the answer is:\\n\\nYes, you have checked baggage. According to the ticket information, the total checked-in baggage allowance is 69kg.'"
      ]
     },
     "execution_count": 43,
     "metadata": {},
     "output_type": "execute_result"
    }
   ],
   "source": [
    "# Query the model\n",
    "\n",
    "rag_chain.invoke(\"Do I have checked baggage?\")"
   ]
  },
  {
   "cell_type": "code",
   "execution_count": 45,
   "metadata": {},
   "outputs": [
    {
     "data": {
      "text/plain": [
       "'According to the provided ticket information, your seat for the first flight is 21A.'"
      ]
     },
     "execution_count": 45,
     "metadata": {},
     "output_type": "execute_result"
    }
   ],
   "source": [
    "rag_chain.invoke(\"What’s my seat for the first flight?\")"
   ]
  },
  {
   "cell_type": "code",
   "execution_count": 47,
   "metadata": {},
   "outputs": [
    {
     "data": {
      "text/plain": [
       "\"You are arriving at Indira Gandhi International Airport in Delhi. The expected arrival time is not provided in the available data, so I'm not sure of the exact arrival time.\""
      ]
     },
     "execution_count": 47,
     "metadata": {},
     "output_type": "execute_result"
    }
   ],
   "source": [
    "rag_chain.invoke(\"Which airport am I arriving at in Delhi, and what’s the expected arrival time?\")"
   ]
  },
  {
   "cell_type": "code",
   "execution_count": null,
   "metadata": {},
   "outputs": [],
   "source": []
  }
 ],
 "metadata": {
  "kernelspec": {
   "display_name": "venv",
   "language": "python",
   "name": "python3"
  },
  "language_info": {
   "codemirror_mode": {
    "name": "ipython",
    "version": 3
   },
   "file_extension": ".py",
   "mimetype": "text/x-python",
   "name": "python",
   "nbconvert_exporter": "python",
   "pygments_lexer": "ipython3",
   "version": "3.11.3"
  }
 },
 "nbformat": 4,
 "nbformat_minor": 2
}
